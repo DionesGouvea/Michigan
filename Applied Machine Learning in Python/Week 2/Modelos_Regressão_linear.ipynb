{
  "nbformat": 4,
  "nbformat_minor": 0,
  "metadata": {
    "colab": {
      "provenance": [],
      "authorship_tag": "ABX9TyOGB87kZ75wPVjg4nhMsE7i"
    },
    "kernelspec": {
      "name": "python3",
      "display_name": "Python 3"
    },
    "language_info": {
      "name": "python"
    }
  },
  "cells": [
    {
      "cell_type": "markdown",
      "source": [
        "## Modelos de Regressão Linear \n",
        "### Linear Regression"
      ],
      "metadata": {
        "id": "EDJyAOAiBDke"
      }
    },
    {
      "cell_type": "code",
      "source": [
        "from sklearn.linear_model import LinearRegression\n",
        "\n",
        "X_train, X_test, y_train, y_test = train_test_split(X_R1, y_R1,random_state = 0)\n",
        "linreg = LinearRegression().fit(X_train, y_train)\n",
        "\n",
        "print('linear model coeff (w): {}'\n",
        "     .format(linreg.coef_)) #so temos um coef pois so temos 1 feature \n",
        "print('linear model intercept (b): {:.3f}'\n",
        "     .format(linreg.intercept_)) #é o valor que da nossa variavel target quando todas as nossas features na reta são (x = 0) \n",
        "\n",
        "#o score explica o quanto nosso modelo esta acertando, ou quanto nosso modelo esta sendo capas de entender nossos dados para prever o valor \n",
        "print('R-squared score (training): {:.3f}'\n",
        "     .format(linreg.score(X_train, y_train)))\n",
        "print('R-squared score (test): {:.3f}'\n",
        "     .format(linreg.score(X_test, y_test)))"
      ],
      "metadata": {
        "colab": {
          "base_uri": "https://localhost:8080/"
        },
        "id": "PxUpGSQKA_WB",
        "outputId": "bc9afacb-f661-481a-c8b8-1456ee76ca82"
      },
      "execution_count": 12,
      "outputs": [
        {
          "output_type": "stream",
          "name": "stdout",
          "text": [
            "linear model coeff (w): [45.71]\n",
            "linear model intercept (b): 148.446\n",
            "R-squared score (training): 0.679\n",
            "R-squared score (test): 0.492\n"
          ]
        }
      ]
    },
    {
      "cell_type": "markdown",
      "source": [
        "##Regressão linear: Plot Exemplo"
      ],
      "metadata": {
        "id": "rTpXHN0_Jhh5"
      }
    },
    {
      "cell_type": "code",
      "source": [
        "plt.figure(figsize=(5,4))\n",
        "plt.scatter(X_R1, y_R1, marker= 'o', s=50, alpha=0.8)\n",
        "plt.plot(X_R1, linreg.coef_ * X_R1 + linreg.intercept_, 'r-')\n",
        "plt.title('Least-squares linear regression')\n",
        "plt.xlabel('Feature value (x)')\n",
        "plt.ylabel('Target value (y)')\n",
        "plt.show()"
      ],
      "metadata": {
        "colab": {
          "base_uri": "https://localhost:8080/",
          "height": 295
        },
        "id": "-h3lBtz4JhTZ",
        "outputId": "388a114c-2a06-4d2e-8fef-8bcc9b4702a7"
      },
      "execution_count": 15,
      "outputs": [
        {
          "output_type": "display_data",
          "data": {
            "text/plain": [
              "<Figure size 360x288 with 1 Axes>"
            ],
            "image/png": "[encoded data removed]"
          },
          "metadata": {
            "needs_background": "light"
          }
        }
      ]
    },
    {
      "cell_type": "code",
      "source": [
        "X_train, X_test, y_train, y_test = train_test_split(X_crime, y_crime,\n",
        "                                                   random_state = 0)\n",
        "linreg = LinearRegression().fit(X_train, y_train)\n",
        "\n",
        "print('Crime dataset')\n",
        "print('linear model intercept: {}'\n",
        "     .format(linreg.intercept_))\n",
        "print('linear model coeff:\\n{}'\n",
        "     .format(linreg.coef_))\n",
        "print('R-squared score (training): {:.3f}'\n",
        "     .format(linreg.score(X_train, y_train)))\n",
        "print('R-squared score (test): {:.3f}'\n",
        "     .format(linreg.score(X_test, y_test)))"
      ],
      "metadata": {
        "colab": {
          "base_uri": "https://localhost:8080/"
        },
        "id": "dU4kKWQsDnuu",
        "outputId": "40d735ec-c99e-44c8-8f14-ac785350acbb"
      },
      "execution_count": 16,
      "outputs": [
        {
          "output_type": "stream",
          "name": "stdout",
          "text": [
            "Crime dataset\n",
            "linear model intercept: -1728.130672601781\n",
            "linear model coeff:\n",
            "[ 1.62e-03 -9.43e+01  1.36e+01 -3.13e+01 -8.15e-02 -1.69e+01 -2.43e-03\n",
            "  1.53e+00 -1.39e-02 -7.72e+00  2.28e+01 -5.66e+00  9.35e+00  2.07e-01\n",
            " -7.43e+00  9.66e-03  4.38e-03  4.80e-03 -4.46e+00 -1.61e+01  8.83e+00\n",
            " -5.07e-01 -1.42e+00  8.18e+00 -3.87e+00 -3.54e+00  4.49e+00  9.31e+00\n",
            "  1.74e+02  1.18e+01  1.51e+02 -3.30e+02 -1.35e+02  6.95e-01 -2.38e+01\n",
            "  2.77e+00  3.82e-01  4.39e+00 -1.06e+01 -4.92e-03  4.14e+01 -1.16e-03\n",
            "  1.19e+00  1.75e+00 -3.68e+00  1.60e+00 -8.42e+00 -3.80e+01  4.74e+01\n",
            " -2.51e+01 -2.88e-01 -3.66e+01  1.90e+01 -4.53e+01  6.83e+02  1.04e+02\n",
            " -3.29e+02 -3.14e+01  2.74e+01  5.12e+00  6.92e+01  1.98e-02 -6.12e-01\n",
            "  2.65e+01  1.01e+01 -1.59e+00  2.24e+00  7.38e+00 -3.14e+01 -9.78e-05\n",
            "  5.02e-05 -3.48e-04 -2.50e-04 -5.27e-01 -5.17e-01 -4.10e-01  1.16e-01\n",
            "  1.46e+00 -3.04e-01  2.44e+00 -3.66e+01  1.41e-01  2.89e-01  1.77e+01\n",
            "  5.97e-01  1.98e+00 -1.36e-01 -1.85e+00]\n",
            "R-squared score (training): 0.673\n",
            "R-squared score (test): 0.496\n"
          ]
        }
      ]
    },
    {
      "cell_type": "markdown",
      "source": [
        "## Ridge regression\n",
        "\n",
        "A Regressão de Ridge é um tipo de regularização de regressão linear que adiciona uma penalidade aos coeficientes para evitar overfitting (sobreajuste). Ela é uma variação da Regressão Linear tradicional, onde a função de custo é ajustada para minimizar a soma dos quadrados dos erros"
      ],
      "metadata": {
        "id": "vwU5LQaNK3gr"
      }
    },
    {
      "cell_type": "code",
      "source": [
        "from sklearn.linear_model import Ridge\n",
        "X_train, X_test, y_train, y_test = train_test_split(X_crime, y_crime,\n",
        "                                                   random_state = 0)\n",
        "\n",
        "linridge = Ridge(alpha=20.0).fit(X_train, y_train)\n",
        "\n",
        "print('Crime dataset')\n",
        "print('ridge regression linear model intercept: {}'\n",
        "     .format(linridge.intercept_))\n",
        "print('ridge regression linear model coeff:\\n{}'\n",
        "     .format(linridge.coef_))\n",
        "print('R-squared score (training): {:.3f}'\n",
        "     .format(linridge.score(X_train, y_train)))\n",
        "print('R-squared score (test): {:.3f}'\n",
        "     .format(linridge.score(X_test, y_test)))\n",
        "print('Number of non-zero features: {}'\n",
        "     .format(np.sum(linridge.coef_ != 0)))"
      ],
      "metadata": {
        "colab": {
          "base_uri": "https://localhost:8080/"
        },
        "id": "S2gO7xgbK2vk",
        "outputId": "9dd41278-6e5a-46d4-9bff-b2e8bccad1c4"
      },
      "execution_count": 19,
      "outputs": [
        {
          "output_type": "stream",
          "name": "stdout",
          "text": [
            "Crime dataset\n",
            "ridge regression linear model intercept: -3352.423035846137\n",
            "ridge regression linear model coeff:\n",
            "[ 1.95e-03  2.19e+01  9.56e+00 -3.59e+01  6.36e+00 -1.97e+01 -2.81e-03\n",
            "  1.66e+00 -6.61e-03 -6.95e+00  1.72e+01 -5.63e+00  8.84e+00  6.79e-01\n",
            " -7.34e+00  6.70e-03  9.79e-04  5.01e-03 -4.90e+00 -1.79e+01  9.18e+00\n",
            " -1.24e+00  1.22e+00  1.03e+01 -3.78e+00 -3.73e+00  4.75e+00  8.43e+00\n",
            "  3.09e+01  1.19e+01 -2.05e+00 -3.82e+01  1.85e+01  1.53e+00 -2.20e+01\n",
            "  2.46e+00  3.29e-01  4.02e+00 -1.13e+01 -4.70e-03  4.27e+01 -1.23e-03\n",
            "  1.41e+00  9.35e-01 -3.00e+00  1.12e+00 -1.82e+01 -1.55e+01  2.42e+01\n",
            " -1.32e+01 -4.20e-01 -3.60e+01  1.30e+01 -2.81e+01  4.39e+01  3.87e+01\n",
            " -6.46e+01 -1.64e+01  2.90e+01  4.15e+00  5.34e+01  1.99e-02 -5.47e-01\n",
            "  1.24e+01  1.04e+01 -1.57e+00  3.16e+00  8.78e+00 -2.95e+01 -2.33e-04\n",
            "  3.14e-04 -4.14e-04 -1.79e-04 -5.74e-01 -5.18e-01 -4.21e-01  1.53e-01\n",
            "  1.33e+00  3.85e+00  3.03e+00 -3.78e+01  1.38e-01  3.08e-01  1.57e+01\n",
            "  3.31e-01  3.36e+00  1.61e-01 -2.68e+00]\n",
            "R-squared score (training): 0.671\n",
            "R-squared score (test): 0.494\n",
            "Number of non-zero features: 88\n"
          ]
        }
      ]
    },
    {
      "cell_type": "markdown",
      "source": [
        "## Ridge regression with feature normalization\n",
        "Colocando todas as features dentro de uma mesma escala com scaler.fit antes de aplicar o ridge para garantir que todas as features seram tratadas de forma equitativa, e assim melhorar a precisão do modelo."
      ],
      "metadata": {
        "id": "Q1i4WfSHMeFN"
      }
    },
    {
      "cell_type": "code",
      "source": [
        "from sklearn.preprocessing import MinMaxScaler\n",
        "scaler = MinMaxScaler()\n",
        "\n",
        "from sklearn.linear_model import Ridge\n",
        "X_train, X_test, y_train, y_test = train_test_split(X_crime, y_crime,\n",
        "                                                   random_state = 0)\n",
        "\n",
        "X_train_scaled = scaler.fit_transform(X_train)\n",
        "X_test_scaled = scaler.transform(X_test)\n",
        "\n",
        "linridge = Ridge(alpha=20.0).fit(X_train_scaled, y_train)\n",
        "\n",
        "print('Crime dataset')\n",
        "print('ridge regression linear model intercept: {}'\n",
        "     .format(linridge.intercept_))\n",
        "print('ridge regression linear model coeff:\\n{}'\n",
        "     .format(linridge.coef_))\n",
        "print('R-squared score (training): {:.3f}'\n",
        "     .format(linridge.score(X_train_scaled, y_train)))\n",
        "print('R-squared score (test): {:.3f}'\n",
        "     .format(linridge.score(X_test_scaled, y_test)))\n",
        "print('Number of non-zero features: {}'\n",
        "     .format(np.sum(linridge.coef_ != 0)))"
      ],
      "metadata": {
        "colab": {
          "base_uri": "https://localhost:8080/"
        },
        "id": "kAno19iPK_NO",
        "outputId": "480ee36a-ad54-4ea1-90f6-5d35aa2a27bc"
      },
      "execution_count": 20,
      "outputs": [
        {
          "output_type": "stream",
          "name": "stdout",
          "text": [
            "Crime dataset\n",
            "ridge regression linear model intercept: 933.3906385044153\n",
            "ridge regression linear model coeff:\n",
            "[  88.69   16.49  -50.3   -82.91  -65.9    -2.28   87.74  150.95   18.88\n",
            "  -31.06  -43.14 -189.44   -4.53  107.98  -76.53    2.86   34.95   90.14\n",
            "   52.46  -62.11  115.02    2.67    6.94   -5.67 -101.55  -36.91   -8.71\n",
            "   29.12  171.26   99.37   75.07  123.64   95.24 -330.61 -442.3  -284.5\n",
            " -258.37   17.66 -101.71  110.65  523.14   24.82    4.87  -30.47   -3.52\n",
            "   50.58   10.85   18.28   44.11   58.34   67.09  -57.94  116.14   53.81\n",
            "   49.02   -7.62   55.14  -52.09  123.39   77.13   45.5   184.91  -91.36\n",
            "    1.08  234.09   10.39   94.72  167.92  -25.14   -1.18   14.6    36.77\n",
            "   53.2   -78.86   -5.9    26.05  115.15   68.74   68.29   16.53  -97.91\n",
            "  205.2    75.97   61.38  -79.83   67.27   95.67  -11.88]\n",
            "R-squared score (training): 0.615\n",
            "R-squared score (test): 0.599\n",
            "Number of non-zero features: 88\n"
          ]
        }
      ]
    },
    {
      "cell_type": "markdown",
      "source": [
        "##Ridge regression with regularization parameter: alpha\n",
        "\n",
        "Usando alpha com valores diferentes para treinar o scaler e encontrar qual o melhor valor para normalizar os dados de que quando treinarmos o ridge se obtenha a melhor generalização dos dados"
      ],
      "metadata": {
        "id": "bltU-Mx8OsUl"
      }
    },
    {
      "cell_type": "code",
      "source": [
        "print('Ridge regression: effect of alpha regularization parameter\\n')\n",
        "for this_alpha in [0, 1, 10, 20, 50, 100, 1000]:\n",
        "    linridge = Ridge(alpha = this_alpha).fit(X_train_scaled, y_train)\n",
        "    r2_train = linridge.score(X_train_scaled, y_train)\n",
        "    r2_test = linridge.score(X_test_scaled, y_test)\n",
        "    num_coeff_bigger = np.sum(abs(linridge.coef_) > 1.0)\n",
        "    print('Alpha = {:.2f}\\nnum abs(coeff) > 1.0: {}, \\\n",
        "r-squared training: {:.2f}, r-squared test: {:.2f}\\n'\n",
        "         .format(this_alpha, num_coeff_bigger, r2_train, r2_test))"
      ],
      "metadata": {
        "colab": {
          "base_uri": "https://localhost:8080/"
        },
        "id": "GH7PmFW8MgEA",
        "outputId": "86edfcb9-b8c6-46a8-dedd-acd0d48fe65c"
      },
      "execution_count": 21,
      "outputs": [
        {
          "output_type": "stream",
          "name": "stdout",
          "text": [
            "Ridge regression: effect of alpha regularization parameter\n",
            "\n",
            "Alpha = 0.00\n",
            "num abs(coeff) > 1.0: 88, r-squared training: 0.67, r-squared test: 0.50\n",
            "\n",
            "Alpha = 1.00\n",
            "num abs(coeff) > 1.0: 87, r-squared training: 0.66, r-squared test: 0.56\n",
            "\n",
            "Alpha = 10.00\n",
            "num abs(coeff) > 1.0: 87, r-squared training: 0.63, r-squared test: 0.59\n",
            "\n",
            "Alpha = 20.00\n",
            "num abs(coeff) > 1.0: 88, r-squared training: 0.61, r-squared test: 0.60\n",
            "\n",
            "Alpha = 50.00\n",
            "num abs(coeff) > 1.0: 86, r-squared training: 0.58, r-squared test: 0.58\n",
            "\n",
            "Alpha = 100.00\n",
            "num abs(coeff) > 1.0: 87, r-squared training: 0.55, r-squared test: 0.55\n",
            "\n",
            "Alpha = 1000.00\n",
            "num abs(coeff) > 1.0: 84, r-squared training: 0.31, r-squared test: 0.30\n",
            "\n"
          ]
        }
      ]
    },
    {
      "cell_type": "markdown",
      "source": [
        "## Lasso regression\n",
        "A Regressão Lasso (Least Absolute Shrinkage and Selection Operator) é um tipo de regularização de regressão linear que adiciona uma penalidade aos coeficientes para evitar overfitting (sobreajuste) e selecionar automaticamente algumas features. Ele é uma variação da Regressão Linear tradicional, onde a função de custo é ajustada para minimizar a soma dos quadrados dos erros\n"
      ],
      "metadata": {
        "id": "mXOXvaOAPyDt"
      }
    },
    {
      "cell_type": "code",
      "source": [
        "from sklearn.linear_model import Lasso\n",
        "from sklearn.preprocessing import MinMaxScaler\n",
        "scaler = MinMaxScaler()\n",
        "\n",
        "X_train, X_test, y_train, y_test = train_test_split(X_crime, y_crime,\n",
        "                                                   random_state = 0)\n",
        "\n",
        "X_train_scaled = scaler.fit_transform(X_train)\n",
        "X_test_scaled = scaler.transform(X_test)\n",
        "\n",
        "linlasso = Lasso(alpha=2.0, max_iter = 10000).fit(X_train_scaled, y_train)\n",
        "\n",
        "print('Crime dataset')\n",
        "print('lasso regression linear model intercept: {}'\n",
        "     .format(linlasso.intercept_))\n",
        "print('lasso regression linear model coeff:\\n{}'\n",
        "     .format(linlasso.coef_))\n",
        "print('Non-zero features: {}'\n",
        "     .format(np.sum(linlasso.coef_ != 0)))\n",
        "print('R-squared score (training): {:.3f}'\n",
        "     .format(linlasso.score(X_train_scaled, y_train)))\n",
        "print('R-squared score (test): {:.3f}\\n'\n",
        "     .format(linlasso.score(X_test_scaled, y_test)))\n",
        "print('Features with non-zero weight (sorted by absolute magnitude):')\n",
        "\n",
        "for e in sorted (list(zip(list(X_crime), linlasso.coef_)),\n",
        "                key = lambda e: -abs(e[1])):\n",
        "    if e[1] != 0:\n",
        "        print('\\t{}, {:.3f}'.format(e[0], e[1]))"
      ],
      "metadata": {
        "colab": {
          "base_uri": "https://localhost:8080/"
        },
        "id": "FJcIVv2ZO_l8",
        "outputId": "ed9a9cf6-ca0a-47a3-f15c-c54202eafc6e"
      },
      "execution_count": 23,
      "outputs": [
        {
          "output_type": "stream",
          "name": "stdout",
          "text": [
            "Crime dataset\n",
            "lasso regression linear model intercept: 1186.612061998579\n",
            "lasso regression linear model coeff:\n",
            "[    0.       0.      -0.    -168.18    -0.      -0.       0.     119.69\n",
            "     0.      -0.       0.    -169.68    -0.       0.      -0.       0.\n",
            "     0.       0.      -0.      -0.       0.      -0.       0.       0.\n",
            "   -57.53    -0.      -0.       0.     259.33    -0.       0.       0.\n",
            "     0.      -0.   -1188.74    -0.      -0.      -0.    -231.42     0.\n",
            "  1488.37     0.      -0.      -0.      -0.       0.       0.       0.\n",
            "     0.       0.      -0.       0.      20.14     0.       0.       0.\n",
            "     0.       0.     339.04     0.       0.     459.54    -0.       0.\n",
            "   122.69    -0.      91.41     0.      -0.       0.       0.      73.14\n",
            "     0.      -0.       0.       0.      86.36     0.       0.       0.\n",
            "  -104.57   264.93     0.      23.45   -49.39     0.       5.2      0.  ]\n",
            "Non-zero features: 20\n",
            "R-squared score (training): 0.631\n",
            "R-squared score (test): 0.624\n",
            "\n",
            "Features with non-zero weight (sorted by absolute magnitude):\n",
            "\tPctKidsBornNeverMar, 1488.365\n",
            "\tPctKids2Par, -1188.740\n",
            "\tHousVacant, 459.538\n",
            "\tPctPersDenseHous, 339.045\n",
            "\tNumInShelters, 264.932\n",
            "\tMalePctDivorce, 259.329\n",
            "\tPctWorkMom, -231.423\n",
            "\tpctWInvInc, -169.676\n",
            "\tagePct12t29, -168.183\n",
            "\tPctVacantBoarded, 122.692\n",
            "\tpctUrban, 119.694\n",
            "\tMedOwnCostPctIncNoMtg, -104.571\n",
            "\tMedYrHousBuilt, 91.412\n",
            "\tRentQrange, 86.356\n",
            "\tOwnOccHiQuart, 73.144\n",
            "\tPctEmplManu, -57.530\n",
            "\tPctBornSameState, -49.394\n",
            "\tPctForeignBorn, 23.449\n",
            "\tPctLargHouseFam, 20.144\n",
            "\tPctSameCity85, 5.198\n"
          ]
        }
      ]
    },
    {
      "cell_type": "markdown",
      "source": [
        "Podemos perceber que a Lasso força alguns coeficientes a ser zero, Isso ajuda a evitar problemas de overfitting, mas também ajuda a selecionar automaticamente as features mais importantes. Isso geralmente resulta em melhores previsões e modelos mais robustos, mas pode resultar em uma perda ligeira de precisão se os coeficientes são reduzidos demais."
      ],
      "metadata": {
        "id": "UeOivFCLR5Qc"
      }
    },
    {
      "cell_type": "markdown",
      "source": [
        "## Lasso regression with regularization parameter: alpha\n",
        "Da mesma forma que fizemos com Ridge vamos fazer aqui, usar o alpha para encontrar o melhor numeros de features a se manter de forma que obtemos o modelo que generaliza melhor. "
      ],
      "metadata": {
        "id": "si9El934ScSt"
      }
    },
    {
      "cell_type": "code",
      "source": [
        "print('Lasso regression: effect of alpha regularization\\n\\\n",
        "parameter on number of features kept in final model\\n')\n",
        "\n",
        "for alpha in [0.5, 1, 2, 3, 5, 10, 20, 50]:\n",
        "    linlasso = Lasso(alpha, max_iter = 10000).fit(X_train_scaled, y_train)\n",
        "    r2_train = linlasso.score(X_train_scaled, y_train)\n",
        "    r2_test = linlasso.score(X_test_scaled, y_test)\n",
        "    \n",
        "    print('Alpha = {:.2f}\\nFeatures kept: {}, r-squared training: {:.2f}, \\\n",
        "r-squared test: {:.2f}\\n'\n",
        "         .format(alpha, np.sum(linlasso.coef_ != 0), r2_train, r2_test))"
      ],
      "metadata": {
        "colab": {
          "base_uri": "https://localhost:8080/"
        },
        "id": "6Fh9asrOPw6R",
        "outputId": "9651aaa8-630a-4f6a-8976-60f6672654e3"
      },
      "execution_count": 28,
      "outputs": [
        {
          "output_type": "stream",
          "name": "stdout",
          "text": [
            "Lasso regression: effect of alpha regularization\n",
            "parameter on number of features kept in final model\n",
            "\n",
            "Alpha = 0.50\n",
            "Features kept: 0, r-squared training: 0.00, r-squared test: -0.00\n",
            "\n",
            "Alpha = 1.00\n",
            "Features kept: 0, r-squared training: 0.00, r-squared test: -0.00\n",
            "\n",
            "Alpha = 2.00\n",
            "Features kept: 0, r-squared training: 0.00, r-squared test: -0.00\n",
            "\n",
            "Alpha = 3.00\n",
            "Features kept: 0, r-squared training: 0.00, r-squared test: -0.00\n",
            "\n",
            "Alpha = 5.00\n",
            "Features kept: 0, r-squared training: 0.00, r-squared test: -0.00\n",
            "\n",
            "Alpha = 10.00\n",
            "Features kept: 0, r-squared training: 0.00, r-squared test: -0.00\n",
            "\n",
            "Alpha = 20.00\n",
            "Features kept: 0, r-squared training: 0.00, r-squared test: -0.00\n",
            "\n",
            "Alpha = 50.00\n",
            "Features kept: 0, r-squared training: 0.00, r-squared test: -0.00\n",
            "\n"
          ]
        }
      ]
    },
    {
      "cell_type": "markdown",
      "source": [
        "## Polynomial regression\n",
        "Polynomial e uma função que cria novas caracteristicas elevando a potencia das caracteristicas originais(features) o objetivo e tentar capturar relações não lineares entre as features e a variavel resposta, e tentar melhorar a performance do modelo. "
      ],
      "metadata": {
        "id": "B82JcGsiUYbr"
      }
    },
    {
      "cell_type": "code",
      "source": [
        "from sklearn.linear_model import LinearRegression\n",
        "from sklearn.linear_model import Ridge\n",
        "from sklearn.preprocessing import PolynomialFeatures\n",
        "\n",
        "\n",
        "X_train, X_test, y_train, y_test = train_test_split(X_F1, y_F1,\n",
        "                                                   random_state = 0)\n",
        "linreg = LinearRegression().fit(X_train, y_train)\n",
        "\n",
        "print('linear model coeff (w): {}'\n",
        "     .format(linreg.coef_))\n",
        "print('linear model intercept (b): {:.3f}'\n",
        "     .format(linreg.intercept_))\n",
        "print('R-squared score (training): {:.3f}'\n",
        "     .format(linreg.score(X_train, y_train)))\n",
        "print('R-squared score (test): {:.3f}'\n",
        "     .format(linreg.score(X_test, y_test)))\n",
        "\n",
        "print('\\nAgora transformamos os dados de entrada originais para adicionar\\n\\\n",
        "recursos polinomiais até grau 2 (quadrático)\\n')\n",
        "poly = PolynomialFeatures(degree=2)\n",
        "X_F1_poly = poly.fit_transform(X_F1)\n",
        "\n",
        "X_train, X_test, y_train, y_test = train_test_split(X_F1_poly, y_F1,\n",
        "                                                   random_state = 0)\n",
        "linreg = LinearRegression().fit(X_train, y_train)\n",
        "\n",
        "print('(poly deg 2) linear model coeff (w):\\n{}'\n",
        "     .format(linreg.coef_))\n",
        "print('(poly deg 2) linear model intercept (b): {:.3f}'\n",
        "     .format(linreg.intercept_))\n",
        "print('(poly deg 2) R-squared score (training): {:.3f}'\n",
        "     .format(linreg.score(X_train, y_train)))\n",
        "print('(poly deg 2) R-squared score (test): {:.3f}\\n'\n",
        "     .format(linreg.score(X_test, y_test)))\n",
        "\n",
        "print('\\nA adição de muitos recursos polinomiais geralmente leva a\\n\\\n",
        "overfitting, por isso geralmente usamos recursos polinomiais em combinação\\n\\\n",
        "com regressão que tem uma penalidade de regularização, como ridge\\n\\\n",
        "regressão.\\n')\n",
        "\n",
        "X_train, X_test, y_train, y_test = train_test_split(X_F1_poly, y_F1,\n",
        "                                                   random_state = 0)\n",
        "linreg = Ridge().fit(X_train, y_train)\n",
        "\n",
        "print('(poly deg 2 + ridge) linear model coeff (w):\\n{}'\n",
        "     .format(linreg.coef_))\n",
        "print('(poly deg 2 + ridge) linear model intercept (b): {:.3f}'\n",
        "     .format(linreg.intercept_))\n",
        "print('(poly deg 2 + ridge) R-squared score (training): {:.3f}'\n",
        "     .format(linreg.score(X_train, y_train)))\n",
        "print('(poly deg 2 + ridge) R-squared score (test): {:.3f}'\n",
        "     .format(linreg.score(X_test, y_test)))"
      ],
      "metadata": {
        "colab": {
          "base_uri": "https://localhost:8080/"
        },
        "id": "nzBIwl7cUcyH",
        "outputId": "82ee1e13-d704-4f5f-84cc-243da1cb4ce4"
      },
      "execution_count": 30,
      "outputs": [
        {
          "output_type": "stream",
          "name": "stdout",
          "text": [
            "linear model coeff (w): [ 4.42  6.    0.53 10.24  6.55 -2.02 -0.32]\n",
            "linear model intercept (b): 1.543\n",
            "R-squared score (training): 0.722\n",
            "R-squared score (test): 0.722\n",
            "\n",
            "Agora transformamos os dados de entrada originais para adicionar\n",
            "recursos polinomiais até grau 2 (quadrático)\n",
            "\n",
            "(poly deg 2) linear model coeff (w):\n",
            "[ 3.41e-12  1.66e+01  2.67e+01 -2.21e+01  1.24e+01  6.93e+00  1.05e+00\n",
            "  3.71e+00 -1.34e+01 -5.73e+00  1.62e+00  3.66e+00  5.05e+00 -1.46e+00\n",
            "  1.95e+00 -1.51e+01  4.87e+00 -2.97e+00 -7.78e+00  5.15e+00 -4.65e+00\n",
            "  1.84e+01 -2.22e+00  2.17e+00 -1.28e+00  1.88e+00  1.53e-01  5.62e-01\n",
            " -8.92e-01 -2.18e+00  1.38e+00 -4.90e+00 -2.24e+00  1.38e+00 -5.52e-01\n",
            " -1.09e+00]\n",
            "(poly deg 2) linear model intercept (b): -3.206\n",
            "(poly deg 2) R-squared score (training): 0.969\n",
            "(poly deg 2) R-squared score (test): 0.805\n",
            "\n",
            "\n",
            "A adição de muitos recursos polinomiais geralmente leva a\n",
            "overfitting, por isso geralmente usamos recursos polinomiais em combinação\n",
            "com regressão que tem uma penalidade de regularização, como ridge\n",
            "regressão.\n",
            "\n",
            "(poly deg 2 + ridge) linear model coeff (w):\n",
            "[ 0.    2.23  4.73 -3.15  3.86  1.61 -0.77 -0.15 -1.75  1.6   1.37  2.52\n",
            "  2.72  0.49 -1.94 -1.63  1.51  0.89  0.26  2.05 -1.93  3.62 -0.72  0.63\n",
            " -3.16  1.29  3.55  1.73  0.94 -0.51  1.7  -1.98  1.81 -0.22  2.88 -0.89]\n",
            "(poly deg 2 + ridge) linear model intercept (b): 5.418\n",
            "(poly deg 2 + ridge) R-squared score (training): 0.826\n",
            "(poly deg 2 + ridge) R-squared score (test): 0.825\n"
          ]
        }
      ]
    },
    {
      "cell_type": "code",
      "source": [],
      "metadata": {
        "id": "IQuBn5ZAUda5"
      },
      "execution_count": null,
      "outputs": []
    }
  ]
}