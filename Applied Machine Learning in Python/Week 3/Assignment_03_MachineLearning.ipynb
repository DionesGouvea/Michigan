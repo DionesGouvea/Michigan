{
  "nbformat": 4,
  "nbformat_minor": 0,
  "metadata": {
    "colab": {
      "provenance": [],
      "authorship_tag": "ABX9TyPozMxozSauvhX6KOmSTwnr",
      "include_colab_link": true
    },
    "kernelspec": {
      "name": "python3",
      "display_name": "Python 3"
    },
    "language_info": {
      "name": "python"
    }
  },
  "cells": [
    {
      "cell_type": "markdown",
      "metadata": {
        "id": "view-in-github",
        "colab_type": "text"
      },
      "source": [
        "<a href=\"https://colab.research.google.com/github/DionesGouvea/Michigan/blob/main/Applied%20Machine%20Learning%20in%20Python/Week%203/Assignment_03_MachineLearning.ipynb\" target=\"_parent\"><img src=\"https://colab.research.google.com/assets/colab-badge.svg\" alt=\"Open In Colab\"/></a>"
      ]
    },
    {
      "cell_type": "code",
      "execution_count": 36,
      "metadata": {
        "id": "LvTWLh5vShts"
      },
      "outputs": [],
      "source": [
        "import numpy as np\n",
        "import pandas as pd"
      ]
    },
    {
      "cell_type": "markdown",
      "source": [
        "## Questão 1\n",
        "\n",
        "Importe os dados de assets/fraud_data.csv. Qual porcentagem das observações no conjunto de dados são instâncias de fraude?\n",
        "\n",
        "Esta função deve retornar um float entre 0 e 1."
      ],
      "metadata": {
        "id": "n5d-PhsDSqtq"
      }
    },
    {
      "cell_type": "code",
      "source": [
        "df = pd.read_csv('/content/fraud_data (1).csv')\n",
        "def answer_one():\n",
        "    # YOUR CODE HERE\n",
        "    return df.Class.mean()\n",
        "\n",
        "answer_one()"
      ],
      "metadata": {
        "colab": {
          "base_uri": "https://localhost:8080/"
        },
        "id": "YjkhhmRwSkTn",
        "outputId": "a847ae51-69b7-4ffb-d133-64942561d77f"
      },
      "execution_count": 37,
      "outputs": [
        {
          "output_type": "execute_result",
          "data": {
            "text/plain": [
              "0.016410823768035772"
            ]
          },
          "metadata": {},
          "execution_count": 37
        }
      ]
    },
    {
      "cell_type": "markdown",
      "source": [
        "## Questão 2\n",
        "\n",
        "Usando X_train, X_test, y_train e y_test (conforme definido abaixo), treine um classificador fictício que classifique tudo como a classe majoritária dos dados de treinamento. Qual é a precisão desse classificador? Qual é o recall?\n",
        "\n",
        "Esta função deve retornar uma tupla com dois floats, ou seja, (pontuação de precisão, pontuação de recall)."
      ],
      "metadata": {
        "id": "uQSXn_CoY6Oc"
      }
    },
    {
      "cell_type": "code",
      "source": [
        "# Use X_train, X_test, y_train, y_test for all of the following questions\n",
        "from sklearn.model_selection import train_test_split\n",
        "\n",
        "X = df.iloc[:,:-1]\n",
        "y = df.iloc[:,-1]\n",
        "\n",
        "X_train, X_test, y_train, y_test = train_test_split(X, y, random_state=0)"
      ],
      "metadata": {
        "id": "9eL_PZbBS_P7"
      },
      "execution_count": 38,
      "outputs": []
    },
    {
      "cell_type": "code",
      "source": [
        "def answer_two():\n",
        "  from sklearn.dummy import DummyClassifier\n",
        "  from sklearn.metrics import precision_score, recall_score, accuracy_score\n",
        "  \n",
        "  # Instanciando o classificador fictício com a estratégia 'most_frequent'\n",
        "  clf = DummyClassifier(strategy='most_frequent')\n",
        "\n",
        "  # Treinando o classificador fictício com os dados de treinamento\n",
        "  clf.fit(X_train, y_train)\n",
        "\n",
        "  # Fazendo previsões com o classificador fictício\n",
        "  y_pred = clf.predict(X_test)\n",
        "\n",
        "  # Calculando a precisão e o recall do classificador fictício\n",
        "  accuracy = accuracy_score(y_test, y_pred)\n",
        "  recall = recall_score(y_test, y_pred)\n",
        "  return (accuracy, recall)\n",
        "answer_two()"
      ],
      "metadata": {
        "colab": {
          "base_uri": "https://localhost:8080/"
        },
        "id": "NOsy9HljT0DN",
        "outputId": "f504742c-267d-4a62-af7a-39c7b5a7535e"
      },
      "execution_count": 39,
      "outputs": [
        {
          "output_type": "execute_result",
          "data": {
            "text/plain": [
              "(0.9852507374631269, 0.0)"
            ]
          },
          "metadata": {},
          "execution_count": 39
        }
      ]
    },
    {
      "cell_type": "markdown",
      "source": [
        "## Questão 3\n",
        "\n",
        "Usando X_train, X_test, y_train, y_test (conforme definido acima), treine um classificador SVC usando os parâmetros padrão. Qual é a exatidão, recall e precisão desse classificador?\n",
        "\n",
        "Essa função deve retornar uma tupla com três floats, ou seja, (pontuação de accuracy, pontuação de recall, pontuação de precisão)."
      ],
      "metadata": {
        "id": "pxmlaD6YpNPB"
      }
    },
    {
      "cell_type": "code",
      "source": [
        "def answer_three():\n",
        "    from sklearn.metrics import precision_score, recall_score, accuracy_score\n",
        "    from sklearn.svm import SVC\n",
        "    \n",
        "    clf = SVC()\n",
        "\n",
        "    # Treinando o classificador com os dados de treinamento\n",
        "    clf.fit(X_train, y_train)\n",
        "\n",
        "   \n",
        "    y_pred = clf.predict(X_test)\n",
        "    \n",
        "    accuracy = accuracy_score(y_test, y_pred)\n",
        "    recall = recall_score(y_test, y_pred)\n",
        "    precision = precision_score(y_test, y_pred)\n",
        "\n",
        "    return (accuracy, recall, precision)\n",
        "\n",
        "answer_three() "
      ],
      "metadata": {
        "colab": {
          "base_uri": "https://localhost:8080/"
        },
        "id": "7Vv3T2vBWX80",
        "outputId": "32c556c6-f81b-4cd7-b824-f0a355a7c0f7"
      },
      "execution_count": 40,
      "outputs": [
        {
          "output_type": "execute_result",
          "data": {
            "text/plain": [
              "(0.9900442477876106, 0.35, 0.9333333333333333)"
            ]
          },
          "metadata": {},
          "execution_count": 40
        }
      ]
    },
    {
      "cell_type": "markdown",
      "source": [
        "## Questão 4\n",
        "\n",
        "Usando o classificador SVC com parâmetros {'C': 1e9, 'gamma': 1e-07}, qual é a matriz de confusão ao usar um limite de -220 na função de decisão. Use X_test e y_test.\n",
        "\n",
        "Esta função deve retornar uma matriz de confusão, um array numpy 2x2 com 4 inteiros."
      ],
      "metadata": {
        "id": "Fzk2cpoYsrun"
      }
    },
    {
      "cell_type": "code",
      "source": [
        "def answer_four():\n",
        "    from sklearn.metrics import confusion_matrix\n",
        "    from sklearn.svm import SVC\n",
        "    \n",
        "    # YOUR CODE HERE\n",
        "    # Criando um classificador SVC com os parâmetros dados\n",
        "    clf = SVC(C=1e9, gamma=1e-07)\n",
        "\n",
        "    # Treinando o classificador com os dados de treinamento\n",
        "    clf.fit(X_train, y_train)\n",
        "\n",
        "    # Fazendo previsões nos dados de teste\n",
        "    y_pred = clf.decision_function(X_test) > -220\n",
        "\n",
        "    # Criando a matriz de confusão\n",
        "    conf_matrix = confusion_matrix(y_test, y_pred)\n",
        "\n",
        "    return conf_matrix\n",
        "answer_four()"
      ],
      "metadata": {
        "colab": {
          "base_uri": "https://localhost:8080/"
        },
        "id": "5vLCAc0zhEl6",
        "outputId": "1f22b583-7758-4a7a-b83e-040a52fa7918"
      },
      "execution_count": 46,
      "outputs": [
        {
          "output_type": "execute_result",
          "data": {
            "text/plain": [
              "array([[5320,   24],\n",
              "       [  14,   66]])"
            ]
          },
          "metadata": {},
          "execution_count": 46
        }
      ]
    },
    {
      "cell_type": "markdown",
      "source": [
        "O método decision_function retorna a distância das amostras até a superfície de decisão do classificador. Ao usar um limite de -220, estamos definindo um ponto de corte na distância em que as amostras serão classificadas como positivas ou negativas"
      ],
      "metadata": {
        "id": "KeiDUrYiy5ED"
      }
    },
    {
      "cell_type": "markdown",
      "source": [
        "## Questão 5\n",
        "\n",
        "Treine um classificador de regressão logística com parâmetros padrão usando X_train e y_train.\n",
        "\n",
        "Para o classificador de regressão logística, crie uma curva de precision recall e uma curva roc usando y_test e as estimativas de probabilidade para X_test (probabilidade de fraude).\n",
        "\n",
        "Olhando para a curva de recall de precisão, qual é o recall quando a precisão é 0,75?\n",
        "\n",
        "Olhando para a curva roc, qual é a taxa de verdadeiros positivos quando a taxa de falsos positivos é 0,16?\n",
        "\n",
        "Esta função deve retornar uma tupla com dois floats, ou seja, (recall, taxa de verdadeiro positivo)."
      ],
      "metadata": {
        "id": "mis_IWIC12QE"
      }
    },
    {
      "cell_type": "code",
      "source": [
        "from sklearn.linear_model import LogisticRegression\n",
        "from sklearn.metrics import precision_recall_curve, roc_curve, auc\n",
        "import matplotlib.pyplot as plt\n",
        "\n",
        "lr = LogisticRegression()\n",
        "lr.fit(X_train, y_train)\n",
        "\n",
        "y_pred_proba = lr.predict_proba(X_test)[:, 1]\n",
        "\n",
        "# Precision-recall curve\n",
        "precision, recall, _ = precision_recall_curve(y_test, y_pred_proba)\n",
        "plt.plot(recall, precision)\n",
        "plt.xlabel('Recall')\n",
        "plt.ylabel('Precision')\n",
        "plt.title('Precision-Recall Curve')\n",
        "\n",
        "# ROC curve\n",
        "fpr, tpr, _ = roc_curve(y_test, y_pred_proba)\n",
        "roc_auc = auc(fpr, tpr)\n",
        "plt.figure()\n",
        "plt.plot(fpr, tpr, label='ROC curve (area = %0.2f)' % roc_auc)\n",
        "plt.plot([0, 1], [0, 1], 'k--')\n",
        "plt.xlabel('False Positive Rate')\n",
        "plt.ylabel('True Positive Rate')\n",
        "plt.title('ROC Curve')\n",
        "plt.legend(loc=\"lower right\")\n",
        "plt.show()\n",
        "\n"
      ],
      "metadata": {
        "colab": {
          "base_uri": "https://localhost:8080/",
          "height": 712
        },
        "id": "IGJF53lC4pb9",
        "outputId": "3dd5f6f9-3409-466f-dca6-4de963dc90df"
      },
      "execution_count": 50,
      "outputs": [
        {
          "output_type": "stream",
          "name": "stderr",
          "text": [
            "/usr/local/lib/python3.9/dist-packages/sklearn/linear_model/_logistic.py:458: ConvergenceWarning: lbfgs failed to converge (status=1):\n",
            "STOP: TOTAL NO. of ITERATIONS REACHED LIMIT.\n",
            "\n",
            "Increase the number of iterations (max_iter) or scale the data as shown in:\n",
            "    https://scikit-learn.org/stable/modules/preprocessing.html\n",
            "Please also refer to the documentation for alternative solver options:\n",
            "    https://scikit-learn.org/stable/modules/linear_model.html#logistic-regression\n",
            "  n_iter_i = _check_optimize_result(\n"
          ]
        },
        {
          "output_type": "display_data",
          "data": {
            "text/plain": [
              "<Figure size 432x288 with 1 Axes>"
            ],
            "image/png": "[encoded data removed]"
          },
          "metadata": {
            "needs_background": "light"
          }
        },
        {
          "output_type": "display_data",
          "data": {
            "text/plain": [
              "<Figure size 432x288 with 1 Axes>"
            ],
            "image/png": "[encoded data removed]"
          },
          "metadata": {
            "needs_background": "light"
          }
        }
      ]
    },
    {
      "cell_type": "markdown",
      "source": [
        "**LEMBRETE**\n",
        "A função predict_proba retorna um array com duas colunas, uma para cada classe possível. A primeira coluna contém as probabilidades estimadas para a classe negativa (classe 0) e a segunda coluna contém as probabilidades estimadas para a classe positiva (classe 1).\n",
        "\n",
        "No trecho de código y_pred_proba = lr.predict_proba(X_test)[:, 1], o uso dos colchetes [:, 1] é uma forma de selecionar a segunda coluna do array retornado pela função predict_proba. Essa segunda coluna contém as probabilidades estimadas para a classe positiva (classe 1) pelo modelo de regressão logística.\n",
        "\n"
      ],
      "metadata": {
        "id": "JavBcDNO8vpV"
      }
    },
    {
      "cell_type": "code",
      "source": [],
      "metadata": {
        "id": "kLT5Fn-h5Ja-"
      },
      "execution_count": null,
      "outputs": []
    }
  ]
}