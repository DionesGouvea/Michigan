{
  "nbformat": 4,
  "nbformat_minor": 0,
  "metadata": {
    "colab": {
      "provenance": [],
      "authorship_tag": "ABX9TyPT+Dj5vX4kMy3hFevf1DZY"
    },
    "kernelspec": {
      "name": "python3",
      "display_name": "Python 3"
    },
    "language_info": {
      "name": "python"
    }
  },
  "cells": [
    {
      "cell_type": "code",
      "execution_count": 4,
      "metadata": {
        "colab": {
          "base_uri": "https://localhost:8080/",
          "height": 282
        },
        "id": "wUI1Wly9_iq8",
        "outputId": "16ffde9f-0411-4679-860e-c812b4db5f11"
      },
      "outputs": [
        {
          "output_type": "execute_result",
          "data": {
            "text/plain": [
              "<BarContainer object of 8 artists>"
            ]
          },
          "metadata": {},
          "execution_count": 4
        },
        {
          "output_type": "display_data",
          "data": {
            "text/plain": [
              "<Figure size 432x288 with 1 Axes>"
            ],
            "image/png": "[encoded data removed]"
          },
          "metadata": {
            "needs_background": "light"
          }
        }
      ],
      "source": [
        "import matplotlib.pyplot as plt\n",
        "import numpy as np\n",
        "\n",
        "linear_data = np.array([1,2,3,4,5,6,7,8])\n",
        "exponential_data = linear_data**2\n",
        "\n",
        "#usando o tamanho de linear data para o eixo X \n",
        "plt.figure()\n",
        "xvals = range(len(linear_data))\n",
        "plt.bar(xvals, linear_data, width = 0.3) #width espaçamento entre as barras \n",
        "\n"
      ]
    },
    {
      "cell_type": "code",
      "source": [
        "new_xvals = []\n",
        "\n",
        "# plotando outro conjunto de barras, ajustando o eixo x desse novo conjunto em +0.3 para ficar ao lado do primeiro.\n",
        "for item in xvals:\n",
        "    new_xvals.append(item+0.3)\n",
        "\n",
        "    \n",
        "plt.bar(xvals, linear_data, width = 0.3)\n",
        "plt.bar(new_xvals, exponential_data, width = 0.3 ,color='red')"
      ],
      "metadata": {
        "colab": {
          "base_uri": "https://localhost:8080/",
          "height": 282
        },
        "id": "rDoxr4wBBGNN",
        "outputId": "df49ba1e-9bbd-4634-c2eb-992a91cf9837"
      },
      "execution_count": 6,
      "outputs": [
        {
          "output_type": "execute_result",
          "data": {
            "text/plain": [
              "<BarContainer object of 8 artists>"
            ]
          },
          "metadata": {},
          "execution_count": 6
        },
        {
          "output_type": "display_data",
          "data": {
            "text/plain": [
              "<Figure size 432x288 with 1 Axes>"
            ],
            "image/png": "[encoded data removed]"
          },
          "metadata": {
            "needs_background": "light"
          }
        }
      ]
    },
    {
      "cell_type": "code",
      "source": [
        "# Empilhar as barras também é possivel\n",
        "plt.figure()\n",
        "xvals = range(len(linear_data))\n",
        "plt.bar(xvals, linear_data, width = 0.3, color='b')\n",
        "plt.bar(xvals, exponential_data, width = 0.3, bottom=linear_data, color='r')"
      ],
      "metadata": {
        "colab": {
          "base_uri": "https://localhost:8080/",
          "height": 282
        },
        "id": "8SgJaQs5Bw6t",
        "outputId": "e2c13b78-e454-4f34-b51d-efd1056770f9"
      },
      "execution_count": 11,
      "outputs": [
        {
          "output_type": "execute_result",
          "data": {
            "text/plain": [
              "<BarContainer object of 8 artists>"
            ]
          },
          "metadata": {},
          "execution_count": 11
        },
        {
          "output_type": "display_data",
          "data": {
            "text/plain": [
              "<Figure size 432x288 with 1 Axes>"
            ],
            "image/png": "[encoded data removed]"
          },
          "metadata": {
            "needs_background": "light"
          }
        }
      ]
    },
    {
      "cell_type": "code",
      "source": [
        "#use barh para gráficos de barras horizontais\n",
        "plt.figure()\n",
        "xvals = range(len(linear_data))\n",
        "plt.barh(xvals, linear_data, height = 0.3, color='b')\n",
        "plt.barh(xvals, exponential_data, height = 0.3, left=linear_data, color='r')"
      ],
      "metadata": {
        "colab": {
          "base_uri": "https://localhost:8080/",
          "height": 282
        },
        "id": "h9gXgwWJC6xJ",
        "outputId": "d163462f-42d6-4c8b-d330-fcc523c3e5ba"
      },
      "execution_count": 12,
      "outputs": [
        {
          "output_type": "execute_result",
          "data": {
            "text/plain": [
              "<BarContainer object of 8 artists>"
            ]
          },
          "metadata": {},
          "execution_count": 12
        },
        {
          "output_type": "display_data",
          "data": {
            "text/plain": [
              "<Figure size 432x288 with 1 Axes>"
            ],
            "image/png": "[encoded data removed]"
          },
          "metadata": {
            "needs_background": "light"
          }
        }
      ]
    },
    {
      "cell_type": "code",
      "source": [],
      "metadata": {
        "id": "RQit1O5sDcx1"
      },
      "execution_count": null,
      "outputs": []
    }
  ]
}