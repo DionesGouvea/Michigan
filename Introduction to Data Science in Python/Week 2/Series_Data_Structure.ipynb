{
  "nbformat": 4,
  "nbformat_minor": 0,
  "metadata": {
    "colab": {
      "name": "Series Data Structure.ipynb",
      "provenance": [],
      "collapsed_sections": [],
      "authorship_tag": "ABX9TyNM4RREI/Am+olUBAQO+HWB"
    },
    "kernelspec": {
      "name": "python3",
      "display_name": "Python 3"
    },
    "language_info": {
      "name": "python"
    }
  },
  "cells": [
    {
      "cell_type": "markdown",
      "source": [
        "# Estrutura de series "
      ],
      "metadata": {
        "id": "P841_XNMf05W"
      }
    },
    {
      "cell_type": "code",
      "execution_count": 3,
      "metadata": {
        "id": "qRO8ZBk7SWB0"
      },
      "outputs": [],
      "source": [
        "#importando Pandas \n",
        "import pandas as pd "
      ]
    },
    {
      "cell_type": "code",
      "source": [
        "#criando uma lista de 3 estudantes\n",
        "students = ['alice', 'Jack', 'Molly']\n",
        "\n",
        "#criando a serie usando nossa lista \n",
        "pd.Series(students)\n"
      ],
      "metadata": {
        "colab": {
          "base_uri": "https://localhost:8080/"
        },
        "id": "mvapM8XjTiTj",
        "outputId": "7eddc351-584e-40a1-ebb0-4f5747cbee9c"
      },
      "execution_count": 4,
      "outputs": [
        {
          "output_type": "execute_result",
          "data": {
            "text/plain": [
              "0    alice\n",
              "1     Jack\n",
              "2    Molly\n",
              "dtype: object"
            ]
          },
          "metadata": {},
          "execution_count": 4
        }
      ]
    },
    {
      "cell_type": "code",
      "source": [
        "# se passarmos apenas numeros o pandas ira criar uma serie do tipo int64\n",
        "numbers = [1,2,3]\n",
        "pd.Series(numbers)"
      ],
      "metadata": {
        "colab": {
          "base_uri": "https://localhost:8080/"
        },
        "id": "ukyMh8bZT03Z",
        "outputId": "8fa3c449-4851-4bbc-ea9d-ab8f4327fdfd"
      },
      "execution_count": 5,
      "outputs": [
        {
          "output_type": "execute_result",
          "data": {
            "text/plain": [
              "0    1\n",
              "1    2\n",
              "2    3\n",
              "dtype: int64"
            ]
          },
          "metadata": {},
          "execution_count": 5
        }
      ]
    },
    {
      "cell_type": "code",
      "source": [
        "# se criarmos uma lista com strings que contem um valor None \n",
        "\n",
        "students = ['alice', 'Jack', None]\n",
        "pd.Series(students)"
      ],
      "metadata": {
        "colab": {
          "base_uri": "https://localhost:8080/"
        },
        "id": "jvFbkU0MVl_6",
        "outputId": "e00ab168-2fa7-4e90-f91d-a803674687dd"
      },
      "execution_count": 6,
      "outputs": [
        {
          "output_type": "execute_result",
          "data": {
            "text/plain": [
              "0    alice\n",
              "1     Jack\n",
              "2     None\n",
              "dtype: object"
            ]
          },
          "metadata": {},
          "execution_count": 6
        }
      ]
    },
    {
      "cell_type": "code",
      "source": [
        "#vemos que ele ainda mantem o tipo como Object, porem se criarmos uma lista de numeros, com um valor nulo\n",
        "# ele ira retornar uma serie do tipo float64 e o numero sera marcado como NaN (not a number )\n",
        "\n",
        "numbers = [1,2,None]\n",
        "pd.Series(numbers)"
      ],
      "metadata": {
        "colab": {
          "base_uri": "https://localhost:8080/"
        },
        "id": "YvHYN-OFWV77",
        "outputId": "5e0f585f-265a-4865-e632-fda5a74041a8"
      },
      "execution_count": 7,
      "outputs": [
        {
          "output_type": "execute_result",
          "data": {
            "text/plain": [
              "0    1.0\n",
              "1    2.0\n",
              "2    NaN\n",
              "dtype: float64"
            ]
          },
          "metadata": {},
          "execution_count": 7
        }
      ]
    },
    {
      "cell_type": "code",
      "source": [
        "#isso acontece pq o pandas representa o NaN como um ponto flutuante, se você transformar\n",
        "#uma lista de inteiros em uma serie e ela vir do tipo float, muito provavelmente deve ter dados faltando nela. \n",
        "\n",
        "#vale ressaltar que para um cientista de dados NaN e None é a mesma coisa \n",
        "#porem o pandas não ve da mesma forma "
      ],
      "metadata": {
        "id": "pPjX7mraWriK"
      },
      "execution_count": 8,
      "outputs": []
    },
    {
      "cell_type": "code",
      "source": [
        "import numpy as np\n",
        "np.nan == None"
      ],
      "metadata": {
        "colab": {
          "base_uri": "https://localhost:8080/"
        },
        "id": "bAhaCoPPXPrp",
        "outputId": "dcaada0e-6d16-4bfd-e1ce-cb484b5ceb24"
      },
      "execution_count": 9,
      "outputs": [
        {
          "output_type": "execute_result",
          "data": {
            "text/plain": [
              "False"
            ]
          },
          "metadata": {},
          "execution_count": 9
        }
      ]
    },
    {
      "cell_type": "code",
      "source": [
        "#para verficar se NaN de fato e NaN precisamos usar uma função dedicada para isso"
      ],
      "metadata": {
        "id": "0kr_AoRSYHZK"
      },
      "execution_count": 10,
      "outputs": []
    },
    {
      "cell_type": "code",
      "source": [
        "np.isnan(np.nan)"
      ],
      "metadata": {
        "colab": {
          "base_uri": "https://localhost:8080/"
        },
        "id": "U_7ZlbUYYVyI",
        "outputId": "dfaeda94-4483-4c77-f426-88eddae87361"
      },
      "execution_count": 11,
      "outputs": [
        {
          "output_type": "execute_result",
          "data": {
            "text/plain": [
              "True"
            ]
          },
          "metadata": {},
          "execution_count": 11
        }
      ]
    },
    {
      "cell_type": "code",
      "source": [
        "#vamos para um exemplo usando um dicionario "
      ],
      "metadata": {
        "id": "8ThfufbRYYj5"
      },
      "execution_count": 12,
      "outputs": []
    },
    {
      "cell_type": "code",
      "source": [
        "stundents_scores = {'alice': 'Physics',\n",
        "                    'Jack': 'Chemistry',\n",
        "                    'Molly': 'English'}\n",
        "s = pd.Series(stundents_scores)\n",
        "s"
      ],
      "metadata": {
        "colab": {
          "base_uri": "https://localhost:8080/"
        },
        "id": "n5KzqIdOZX4o",
        "outputId": "567ca25d-b8b6-42c1-dd6c-69471697179d"
      },
      "execution_count": 13,
      "outputs": [
        {
          "output_type": "execute_result",
          "data": {
            "text/plain": [
              "alice      Physics\n",
              "Jack     Chemistry\n",
              "Molly      English\n",
              "dtype: object"
            ]
          },
          "metadata": {},
          "execution_count": 13
        }
      ]
    },
    {
      "cell_type": "code",
      "source": [
        "#agora vamos pegar o index "
      ],
      "metadata": {
        "id": "XAbcQCslZwJY"
      },
      "execution_count": 14,
      "outputs": []
    },
    {
      "cell_type": "code",
      "source": [
        "s.index"
      ],
      "metadata": {
        "colab": {
          "base_uri": "https://localhost:8080/"
        },
        "id": "vNOF27_mZ30Y",
        "outputId": "0daa775c-647d-45d7-c7e6-a65c02c3c57c"
      },
      "execution_count": 15,
      "outputs": [
        {
          "output_type": "execute_result",
          "data": {
            "text/plain": [
              "Index(['alice', 'Jack', 'Molly'], dtype='object')"
            ]
          },
          "metadata": {},
          "execution_count": 15
        }
      ]
    },
    {
      "cell_type": "code",
      "source": [
        "#podemos também criar uma serie escolhendo apenas dados especificos apartir do index \n",
        "stundents_scores = {'alice': 'Physics',\n",
        "                    'Jack': 'Chemistry',\n",
        "                    'Molly': 'English'}\n",
        "                    \n",
        "s= pd.Series(stundents_scores, index = ['alice', 'Jack', 'Sam'])\n",
        "s"
      ],
      "metadata": {
        "colab": {
          "base_uri": "https://localhost:8080/"
        },
        "id": "srOOdC22Z9CH",
        "outputId": "8299a918-3960-411f-84b7-ae21066e3b22"
      },
      "execution_count": 16,
      "outputs": [
        {
          "output_type": "execute_result",
          "data": {
            "text/plain": [
              "alice      Physics\n",
              "Jack     Chemistry\n",
              "Sam            NaN\n",
              "dtype: object"
            ]
          },
          "metadata": {},
          "execution_count": 16
        }
      ]
    },
    {
      "cell_type": "code",
      "source": [
        ""
      ],
      "metadata": {
        "id": "n-bsvZd9a3bJ"
      },
      "execution_count": 16,
      "outputs": []
    },
    {
      "cell_type": "markdown",
      "source": [
        "# Querying a Series"
      ],
      "metadata": {
        "id": "6gbPpSXBf-LW"
      }
    },
    {
      "cell_type": "code",
      "source": [
        "#primeiro vamos criar um dicionario com 4 elementos.\n",
        "\n",
        "stundents_scores = {'alice': 'Physics',\n",
        "                    'Jack': 'Chemistry',\n",
        "                    'Molly': 'English',\n",
        "                    'sam': 'History'}\n",
        "                    \n",
        "s= pd.Series(stundents_scores)\n",
        "s"
      ],
      "metadata": {
        "colab": {
          "base_uri": "https://localhost:8080/"
        },
        "id": "XDV1McsPf_1I",
        "outputId": "5f833220-5597-4f00-f9bb-c4781041a074"
      },
      "execution_count": 17,
      "outputs": [
        {
          "output_type": "execute_result",
          "data": {
            "text/plain": [
              "alice      Physics\n",
              "Jack     Chemistry\n",
              "Molly      English\n",
              "sam        History\n",
              "dtype: object"
            ]
          },
          "metadata": {},
          "execution_count": 17
        }
      ]
    },
    {
      "cell_type": "code",
      "source": [
        "#agora se eu quisesse ver apenas o 4 elemento eu teria que usar o iloc e passar o parametro 3\n",
        "s.iloc[3]"
      ],
      "metadata": {
        "colab": {
          "base_uri": "https://localhost:8080/",
          "height": 36
        },
        "id": "kGJKPHELgwdR",
        "outputId": "07894f9c-db20-48dc-af3b-40cff00cae18"
      },
      "execution_count": 18,
      "outputs": [
        {
          "output_type": "execute_result",
          "data": {
            "text/plain": [
              "'History'"
            ],
            "application/vnd.google.colaboratory.intrinsic+json": {
              "type": "string"
            }
          },
          "metadata": {},
          "execution_count": 18
        }
      ]
    },
    {
      "cell_type": "code",
      "source": [
        "# e se eu quisesse pesquisar pelo nome usaria loc\n",
        "s.loc['Molly']"
      ],
      "metadata": {
        "colab": {
          "base_uri": "https://localhost:8080/",
          "height": 36
        },
        "id": "sQ9R7qDXhCyY",
        "outputId": "d71d832b-57a4-41d5-aca9-87e1028000c3"
      },
      "execution_count": 19,
      "outputs": [
        {
          "output_type": "execute_result",
          "data": {
            "text/plain": [
              "'English'"
            ],
            "application/vnd.google.colaboratory.intrinsic+json": {
              "type": "string"
            }
          },
          "metadata": {},
          "execution_count": 19
        }
      ]
    },
    {
      "cell_type": "code",
      "source": [
        "#o pandas permite que voce faça a mesma coisa de forma mais simples e direta "
      ],
      "metadata": {
        "id": "OQ32doUYhr2H"
      },
      "execution_count": 20,
      "outputs": []
    },
    {
      "cell_type": "code",
      "source": [
        "s[3]"
      ],
      "metadata": {
        "colab": {
          "base_uri": "https://localhost:8080/",
          "height": 36
        },
        "id": "hLrTZEYTiJIX",
        "outputId": "f616bd8f-589e-41bd-a6fd-89e0f1f1c32f"
      },
      "execution_count": 21,
      "outputs": [
        {
          "output_type": "execute_result",
          "data": {
            "text/plain": [
              "'History'"
            ],
            "application/vnd.google.colaboratory.intrinsic+json": {
              "type": "string"
            }
          },
          "metadata": {},
          "execution_count": 21
        }
      ]
    },
    {
      "cell_type": "code",
      "source": [
        "s['Molly']"
      ],
      "metadata": {
        "colab": {
          "base_uri": "https://localhost:8080/",
          "height": 36
        },
        "id": "wKn23tNBiNOG",
        "outputId": "d21c1d9f-2c5b-40fb-94bc-3f058567eb37"
      },
      "execution_count": 22,
      "outputs": [
        {
          "output_type": "execute_result",
          "data": {
            "text/plain": [
              "'English'"
            ],
            "application/vnd.google.colaboratory.intrinsic+json": {
              "type": "string"
            }
          },
          "metadata": {},
          "execution_count": 22
        }
      ]
    },
    {
      "cell_type": "code",
      "source": [
        "#mas tome cuidado se vc usar uma serie de inteiros o pandas pode não saber se vc esta pesquisando \n",
        "#pelo index de posição ou pelo index de nome(label)\n",
        "#vamos a um exemplo \n",
        "\n",
        "class_code = {99: 'Physics',\n",
        "                    100: 'Chemistry',\n",
        "                    101: 'English',\n",
        "                    102: 'History'}\n",
        "\n",
        "s= pd.Series(class_code)"
      ],
      "metadata": {
        "id": "MRz0ZQukiTQG"
      },
      "execution_count": 23,
      "outputs": []
    },
    {
      "cell_type": "code",
      "source": [
        "#se eu uso s[0] vai dar erro por que não temos um indice com nome 0 e ele nao vai procurar\n",
        "#pela posição 0 como gostariamos por isso e sempre bom usar loc e iloc"
      ],
      "metadata": {
        "id": "HDSBwwLpiZ-W"
      },
      "execution_count": 24,
      "outputs": []
    },
    {
      "cell_type": "code",
      "source": [
        "#agora vamos ver exemplo de como usar uma series \n",
        "\n",
        "grades = pd.Series([90,80,70,60])\n",
        "\n",
        "total = 0\n",
        "\n",
        "for grade in grades: \n",
        "  total += grade \n",
        "\n",
        "print(total/len(grades))\n"
      ],
      "metadata": {
        "id": "DX5tB8A2jSL4",
        "colab": {
          "base_uri": "https://localhost:8080/"
        },
        "outputId": "c5da4c71-df50-4479-870c-5af35dd0a1e5"
      },
      "execution_count": 28,
      "outputs": [
        {
          "output_type": "stream",
          "name": "stdout",
          "text": [
            "75.0\n"
          ]
        }
      ]
    },
    {
      "cell_type": "code",
      "source": [
        "#Fizemos a soma de todos os valores da series e dividimos pela quantidade de valor assim obtendo a media \n",
        "#porem não fizemos da forma mais rapida, vamos tentar de outra forma\n",
        "\n",
        "total = np.sum(grades)\n",
        "print(total/len(grades))"
      ],
      "metadata": {
        "colab": {
          "base_uri": "https://localhost:8080/"
        },
        "id": "p2QJ1uxqh1hx",
        "outputId": "e30a7701-f2ea-4b5c-cfd0-4b1a98fa7ad6"
      },
      "execution_count": 30,
      "outputs": [
        {
          "output_type": "stream",
          "name": "stdout",
          "text": [
            "75.0\n"
          ]
        }
      ]
    },
    {
      "cell_type": "code",
      "source": [
        "#mas sera que realmente tem diferença? vamos testar \n",
        "numbers = pd.Series(np.random.randint(0,1000,10000))\n",
        "\n",
        "#usando o .head() que ira exibir os 5 primeiros dados\n",
        "numbers.head()"
      ],
      "metadata": {
        "colab": {
          "base_uri": "https://localhost:8080/"
        },
        "id": "FDWkqmZ0ivDf",
        "outputId": "5f9e02e5-ea1f-441c-9353-058350e4dee1"
      },
      "execution_count": 31,
      "outputs": [
        {
          "output_type": "execute_result",
          "data": {
            "text/plain": [
              "0    576\n",
              "1    652\n",
              "2    896\n",
              "3    647\n",
              "4    133\n",
              "dtype: int64"
            ]
          },
          "metadata": {},
          "execution_count": 31
        }
      ]
    },
    {
      "cell_type": "code",
      "source": [
        "#usando len para verificar se o tamanho esta correto \n",
        "len(numbers)"
      ],
      "metadata": {
        "colab": {
          "base_uri": "https://localhost:8080/"
        },
        "id": "20CGPzwDjjmH",
        "outputId": "f89b1321-068e-4962-ec35-ca503fdad2ee"
      },
      "execution_count": 32,
      "outputs": [
        {
          "output_type": "execute_result",
          "data": {
            "text/plain": [
              "10000"
            ]
          },
          "metadata": {},
          "execution_count": 32
        }
      ]
    },
    {
      "cell_type": "code",
      "source": [
        "##agora que temos uma Serie com muitos dados vamos usar uma função Magica \n",
        "#para usar uma função magica temos que colocar na PRIMEIRA LINHA %% seguindo da função que queremos usar \n",
        "#iremos usar uma função que ira rodar o nosso codigo o numero de vezes determinado \n",
        "\n",
        "%%timeit -n 100\n",
        "\n",
        "total = 0\n",
        "\n",
        "for number in numbers:\n",
        "  total += number\n",
        "\n",
        "total/len(numbers)\n",
        "total"
      ],
      "metadata": {
        "colab": {
          "base_uri": "https://localhost:8080/"
        },
        "id": "9fYorUYqkAYn",
        "outputId": "3abb7928-6389-442e-ada0-30adfe9f09dc"
      },
      "execution_count": 37,
      "outputs": [
        {
          "output_type": "stream",
          "name": "stdout",
          "text": [
            "1.37 ms ± 43.6 µs per loop (mean ± std. dev. of 7 runs, 100 loops each)\n"
          ]
        }
      ]
    },
    {
      "cell_type": "code",
      "source": [
        "#agora vamos tentar usando a versão com numpy\n",
        "\n",
        "%%timeit -n 100\n",
        "total = np.sum(numbers)\n",
        "\n",
        "total/len(numbers)"
      ],
      "metadata": {
        "colab": {
          "base_uri": "https://localhost:8080/"
        },
        "id": "_ORxWsRBlreI",
        "outputId": "de74cde9-6526-4fa5-c531-16b0d08fcd6d"
      },
      "execution_count": 41,
      "outputs": [
        {
          "output_type": "stream",
          "name": "stdout",
          "text": [
            "73.6 µs ± 33.8 µs per loop (mean ± std. dev. of 7 runs, 100 loops each)\n"
          ]
        }
      ]
    },
    {
      "cell_type": "code",
      "source": [
        "# podemos ver que o codigo é executado bem mais rapido do que usando um for,\n",
        "# isso e importante quando tivermos trabalhando com toneladas de dados pois queremos otimizar o nosso tempo"
      ],
      "metadata": {
        "id": "TjpkjWQkmO7a"
      },
      "execution_count": 38,
      "outputs": []
    },
    {
      "cell_type": "code",
      "source": [
        "#podemos iterar o valor de toda series \n",
        "numbers.head()"
      ],
      "metadata": {
        "colab": {
          "base_uri": "https://localhost:8080/"
        },
        "id": "ERLKdLvDojFA",
        "outputId": "726e8fe7-2fd4-4cbd-fae7-7d9984c20ff9"
      },
      "execution_count": 42,
      "outputs": [
        {
          "output_type": "execute_result",
          "data": {
            "text/plain": [
              "0    576\n",
              "1    652\n",
              "2    896\n",
              "3    647\n",
              "4    133\n",
              "dtype: int64"
            ]
          },
          "metadata": {},
          "execution_count": 42
        }
      ]
    },
    {
      "cell_type": "code",
      "source": [
        "numbers +=2\n",
        "numbers.head()"
      ],
      "metadata": {
        "colab": {
          "base_uri": "https://localhost:8080/"
        },
        "id": "k2ryAPo1onkG",
        "outputId": "7cb3d2c1-e7e4-4f2a-fd58-d83dda7c92ef"
      },
      "execution_count": 44,
      "outputs": [
        {
          "output_type": "execute_result",
          "data": {
            "text/plain": [
              "0    580\n",
              "1    656\n",
              "2    900\n",
              "3    651\n",
              "4    137\n",
              "dtype: int64"
            ]
          },
          "metadata": {},
          "execution_count": 44
        }
      ]
    },
    {
      "cell_type": "code",
      "source": [
        "# vamos criar uma serie de estudantes novamente \n",
        "students_classes = pd.Series ({'alice': 'Physics',\n",
        "                    'Jack': 'Chemistry',\n",
        "                    'Molly': 'English',\n",
        "                     'sam': 'History'})\n",
        "students_classes"
      ],
      "metadata": {
        "colab": {
          "base_uri": "https://localhost:8080/"
        },
        "id": "zGKhqT-4ov3W",
        "outputId": "492b943b-dcaa-41f0-b9f8-8c0b709bdacd"
      },
      "execution_count": 49,
      "outputs": [
        {
          "output_type": "execute_result",
          "data": {
            "text/plain": [
              "alice      Physics\n",
              "Jack     Chemistry\n",
              "Molly      English\n",
              "sam        History\n",
              "dtype: object"
            ]
          },
          "metadata": {},
          "execution_count": 49
        }
      ]
    },
    {
      "cell_type": "code",
      "source": [
        "#agora vamos criar uma outra serie com uma estuante que possui varias classes e ao inves de dicionario vamos passar uma lista\n",
        "\n",
        "Kelly_classes = pd.Series(['Philosophy', 'Arts', 'Math'], index = ['Kelly', 'Kelly', 'Kelly'])\n",
        "Kelly_classes "
      ],
      "metadata": {
        "colab": {
          "base_uri": "https://localhost:8080/"
        },
        "id": "jc0l5vEXsGzW",
        "outputId": "8a284188-3b8c-4022-d004-11b7fb9013b2"
      },
      "execution_count": 51,
      "outputs": [
        {
          "output_type": "execute_result",
          "data": {
            "text/plain": [
              "Kelly    Philosophy\n",
              "Kelly          Arts\n",
              "Kelly          Math\n",
              "dtype: object"
            ]
          },
          "metadata": {},
          "execution_count": 51
        }
      ]
    },
    {
      "cell_type": "code",
      "source": [
        "#agora vamos juntar as duas com .append() e ver o que acontece \n",
        "\n",
        "all_students_classes = students_classes.append(Kelly_classes)\n",
        "\n",
        "all_students_classes"
      ],
      "metadata": {
        "colab": {
          "base_uri": "https://localhost:8080/"
        },
        "id": "ELcTMUsTtAUW",
        "outputId": "74cd0e02-ab07-42db-a7be-b32713637339"
      },
      "execution_count": 52,
      "outputs": [
        {
          "output_type": "execute_result",
          "data": {
            "text/plain": [
              "alice       Physics\n",
              "Jack      Chemistry\n",
              "Molly       English\n",
              "sam         History\n",
              "Kelly    Philosophy\n",
              "Kelly          Arts\n",
              "Kelly          Math\n",
              "dtype: object"
            ]
          },
          "metadata": {},
          "execution_count": 52
        }
      ]
    },
    {
      "cell_type": "code",
      "source": [
        "#quando unimos tipos de dados diferentes o pandas tenta encontrar o melhor tipo para usar, \n",
        "#aqui nao tivemos problemas pois ambos eram strings\n",
        "#quando usamos uma busca por exemplo por Kelly ele ira trazer todos os index que possuem o nome kelly\n",
        "\n",
        "all_students_classes.loc['Kelly']\n"
      ],
      "metadata": {
        "colab": {
          "base_uri": "https://localhost:8080/"
        },
        "id": "EEj6vV5wtS2G",
        "outputId": "8012c800-ba3c-4623-c952-5ed7852e6cd1"
      },
      "execution_count": 55,
      "outputs": [
        {
          "output_type": "execute_result",
          "data": {
            "text/plain": [
              "Kelly    Philosophy\n",
              "Kelly          Arts\n",
              "Kelly          Math\n",
              "dtype: object"
            ]
          },
          "metadata": {},
          "execution_count": 55
        }
      ]
    },
    {
      "cell_type": "code",
      "source": [
        ""
      ],
      "metadata": {
        "id": "g5BOdJazuLmp"
      },
      "execution_count": null,
      "outputs": []
    }
  ]
}