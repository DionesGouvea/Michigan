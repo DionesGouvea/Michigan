{
  "nbformat": 4,
  "nbformat_minor": 0,
  "metadata": {
    "colab": {
      "name": "Series Data Structure.ipynb",
      "provenance": [],
      "authorship_tag": "ABX9TyNrfQVJDc4GbUdH7ZI584Pf"
    },
    "kernelspec": {
      "name": "python3",
      "display_name": "Python 3"
    },
    "language_info": {
      "name": "python"
    }
  },
  "cells": [
    {
      "cell_type": "code",
      "execution_count": 2,
      "metadata": {
        "id": "qRO8ZBk7SWB0"
      },
      "outputs": [],
      "source": [
        "#importando Pandas \n",
        "import pandas as pd "
      ]
    },
    {
      "cell_type": "code",
      "source": [
        "#criando uma lista de 3 estudantes\n",
        "students = ['alice', 'Jack', 'Molly']\n",
        "\n",
        "#criando a serie usando nossa lista \n",
        "pd.Series(students)\n"
      ],
      "metadata": {
        "colab": {
          "base_uri": "https://localhost:8080/"
        },
        "id": "mvapM8XjTiTj",
        "outputId": "38d7b1b0-4da1-4b44-8360-b7cc5a8aaf44"
      },
      "execution_count": 4,
      "outputs": [
        {
          "output_type": "execute_result",
          "data": {
            "text/plain": [
              "0    alice\n",
              "1     Jack\n",
              "2    Molly\n",
              "dtype: object"
            ]
          },
          "metadata": {},
          "execution_count": 4
        }
      ]
    },
    {
      "cell_type": "code",
      "source": [
        "# se passarmos apenas numeros o pandas ira criar uma serie do tipo int64\n",
        "numbers = [1,2,3]\n",
        "pd.Series(numbers)"
      ],
      "metadata": {
        "colab": {
          "base_uri": "https://localhost:8080/"
        },
        "id": "ukyMh8bZT03Z",
        "outputId": "6ffceefb-673c-49af-9fc5-e29515b72f1e"
      },
      "execution_count": 5,
      "outputs": [
        {
          "output_type": "execute_result",
          "data": {
            "text/plain": [
              "0    1\n",
              "1    2\n",
              "2    3\n",
              "dtype: int64"
            ]
          },
          "metadata": {},
          "execution_count": 5
        }
      ]
    },
    {
      "cell_type": "code",
      "source": [
        "# se criarmos uma lista com strings que contem um valor None \n",
        "\n",
        "students = ['alice', 'Jack', None]\n",
        "pd.Series(students)"
      ],
      "metadata": {
        "colab": {
          "base_uri": "https://localhost:8080/"
        },
        "id": "jvFbkU0MVl_6",
        "outputId": "93ce615f-61b6-4b54-b8a4-5edfc7cb439a"
      },
      "execution_count": 6,
      "outputs": [
        {
          "output_type": "execute_result",
          "data": {
            "text/plain": [
              "0    alice\n",
              "1     Jack\n",
              "2     None\n",
              "dtype: object"
            ]
          },
          "metadata": {},
          "execution_count": 6
        }
      ]
    },
    {
      "cell_type": "code",
      "source": [
        "#vemos que ele ainda mantem o tipo como Object, porem se criarmos uma lista de numeros, com um valor nulo\n",
        "# ele ira retornar uma serie do tipo float64 e o numero sera marcado como NaN (not a number )\n",
        "\n",
        "numbers = [1,2,None]\n",
        "pd.Series(numbers)"
      ],
      "metadata": {
        "colab": {
          "base_uri": "https://localhost:8080/"
        },
        "id": "YvHYN-OFWV77",
        "outputId": "fea0be0c-fc22-48f9-fd9d-cdee8b21bd1d"
      },
      "execution_count": 7,
      "outputs": [
        {
          "output_type": "execute_result",
          "data": {
            "text/plain": [
              "0    1.0\n",
              "1    2.0\n",
              "2    NaN\n",
              "dtype: float64"
            ]
          },
          "metadata": {},
          "execution_count": 7
        }
      ]
    },
    {
      "cell_type": "code",
      "source": [
        "#isso acontece pq o pandas representa o NaN como um ponto flutuante, se você transformar\n",
        "#uma lista de inteiros em uma serie e ela vir do tipo float, muito provavelmente deve ter dados faltando nela. \n",
        "\n",
        "#vale ressaltar que para um cientista de dados NaN e None é a mesma coisa \n",
        "#porem o pandas não ve da mesma forma "
      ],
      "metadata": {
        "id": "pPjX7mraWriK"
      },
      "execution_count": 8,
      "outputs": []
    },
    {
      "cell_type": "code",
      "source": [
        "import numpy as np\n",
        "np.nan == None"
      ],
      "metadata": {
        "colab": {
          "base_uri": "https://localhost:8080/"
        },
        "id": "bAhaCoPPXPrp",
        "outputId": "eb87fbba-55fa-41d5-fe1d-447fa9ba4902"
      },
      "execution_count": 9,
      "outputs": [
        {
          "output_type": "execute_result",
          "data": {
            "text/plain": [
              "False"
            ]
          },
          "metadata": {},
          "execution_count": 9
        }
      ]
    },
    {
      "cell_type": "code",
      "source": [
        "#para verficar se NaN de fato e NaN precisamos usar uma função dedicada para isso"
      ],
      "metadata": {
        "id": "0kr_AoRSYHZK"
      },
      "execution_count": 10,
      "outputs": []
    },
    {
      "cell_type": "code",
      "source": [
        "np.isnan(np.nan)"
      ],
      "metadata": {
        "colab": {
          "base_uri": "https://localhost:8080/"
        },
        "id": "U_7ZlbUYYVyI",
        "outputId": "163fc6f5-ca37-4960-b2da-7615e58ff398"
      },
      "execution_count": 11,
      "outputs": [
        {
          "output_type": "execute_result",
          "data": {
            "text/plain": [
              "True"
            ]
          },
          "metadata": {},
          "execution_count": 11
        }
      ]
    },
    {
      "cell_type": "code",
      "source": [
        "#vamos para um exemplo usando um dicionario "
      ],
      "metadata": {
        "id": "8ThfufbRYYj5"
      },
      "execution_count": 12,
      "outputs": []
    },
    {
      "cell_type": "code",
      "source": [
        "stundents_scores = {'alice': 'Physics',\n",
        "                    'Jack': 'Chemistry',\n",
        "                    'Molly': 'English'}\n",
        "s = pd.Series(stundents_scores)\n",
        "s"
      ],
      "metadata": {
        "colab": {
          "base_uri": "https://localhost:8080/"
        },
        "id": "n5KzqIdOZX4o",
        "outputId": "81019fd0-12bb-4200-b981-b01b3f555164"
      },
      "execution_count": 15,
      "outputs": [
        {
          "output_type": "execute_result",
          "data": {
            "text/plain": [
              "alice      Physics\n",
              "Jack     Chemistry\n",
              "Molly      English\n",
              "dtype: object"
            ]
          },
          "metadata": {},
          "execution_count": 15
        }
      ]
    },
    {
      "cell_type": "code",
      "source": [
        "#agora vamos pegar o index "
      ],
      "metadata": {
        "id": "XAbcQCslZwJY"
      },
      "execution_count": 16,
      "outputs": []
    },
    {
      "cell_type": "code",
      "source": [
        "s.index"
      ],
      "metadata": {
        "colab": {
          "base_uri": "https://localhost:8080/"
        },
        "id": "vNOF27_mZ30Y",
        "outputId": "6627d084-c59c-469c-848a-1af5c1f710f9"
      },
      "execution_count": 17,
      "outputs": [
        {
          "output_type": "execute_result",
          "data": {
            "text/plain": [
              "Index(['alice', 'Jack', 'Molly'], dtype='object')"
            ]
          },
          "metadata": {},
          "execution_count": 17
        }
      ]
    },
    {
      "cell_type": "code",
      "source": [
        "#podemos também criar uma serie escolhendo apenas dados especificos apartir do index \n",
        "stundents_scores = {'alice': 'Physics',\n",
        "                    'Jack': 'Chemistry',\n",
        "                    'Molly': 'English'}\n",
        "                    \n",
        "s= pd.Series(stundents_scores, index = ['alice', 'Jack', 'Sam'])\n",
        "s"
      ],
      "metadata": {
        "colab": {
          "base_uri": "https://localhost:8080/"
        },
        "id": "srOOdC22Z9CH",
        "outputId": "2f9ec782-433d-4bb6-8180-5e13ea689709"
      },
      "execution_count": 18,
      "outputs": [
        {
          "output_type": "execute_result",
          "data": {
            "text/plain": [
              "alice      Physics\n",
              "Jack     Chemistry\n",
              "Sam            NaN\n",
              "dtype: object"
            ]
          },
          "metadata": {},
          "execution_count": 18
        }
      ]
    },
    {
      "cell_type": "code",
      "source": [
        ""
      ],
      "metadata": {
        "id": "n-bsvZd9a3bJ"
      },
      "execution_count": null,
      "outputs": []
    }
  ]
}