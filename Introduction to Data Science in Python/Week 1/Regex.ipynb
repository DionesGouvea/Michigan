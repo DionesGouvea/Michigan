{
  "nbformat": 4,
  "nbformat_minor": 0,
  "metadata": {
    "colab": {
      "name": "Regex.ipynb",
      "provenance": [],
      "authorship_tag": "ABX9TyOorGBR3wvVeAbfte2gPjf6"
    },
    "kernelspec": {
      "name": "python3",
      "display_name": "Python 3"
    },
    "language_info": {
      "name": "python"
    }
  },
  "cells": [
    {
      "cell_type": "code",
      "execution_count": 1,
      "metadata": {
        "id": "VjQ8CW4zKjg6"
      },
      "outputs": [],
      "source": [
        "#primeiro vamos importa o modulo da nossa biblioteca \n",
        "import re\n"
      ]
    },
    {
      "cell_type": "code",
      "source": [
        "#existem varias funções que podemos usar para tentar encontrar alguma correspondencia match(), similary(), search()\n",
        "\n",
        "#vamos ver um exemplo \n",
        "text = \"This is a good day.\"\n",
        "\n",
        "# vamos ver se e um bom dia ou nao\n",
        "if re.search(\"good\", text): # o primeiro parametro aqui e o padrão que estamos buscando\n",
        "    print(\"Wonderful!\")\n",
        "else:\n",
        "    print(\"Alas :(\")"
      ],
      "metadata": {
        "colab": {
          "base_uri": "https://localhost:8080/"
        },
        "id": "TCnCUB9RKssC",
        "outputId": "1207e3a4-8eda-4efd-8dd7-84725a23fcf7"
      },
      "execution_count": 2,
      "outputs": [
        {
          "output_type": "stream",
          "name": "stdout",
          "text": [
            "Wonderful!\n"
          ]
        }
      ]
    },
    {
      "cell_type": "code",
      "source": [
        "# podemos também segmentar uma string para pegar pedaçoes delas atraves de padrões \n",
        "#para isso iremos usar findall() e split()\n",
        "text = \"Amy works diligently. Amy gets good grades. Our student Amy is succesful.\"\n",
        "\n",
        "# vamos cortar o texto sempre que aparecer o nome Amy\n",
        "re.split(\"Amy\", text)"
      ],
      "metadata": {
        "colab": {
          "base_uri": "https://localhost:8080/"
        },
        "id": "97MJ9zKnLY0b",
        "outputId": "b8f58a76-c80e-44df-f2e0-522ebd543cf7"
      },
      "execution_count": 4,
      "outputs": [
        {
          "output_type": "execute_result",
          "data": {
            "text/plain": [
              "['',\n",
              " ' works diligently. ',\n",
              " ' gets good grades. Our student ',\n",
              " ' is succesful.']"
            ]
          },
          "metadata": {},
          "execution_count": 4
        }
      ]
    },
    {
      "cell_type": "code",
      "source": [
        "#caso queiramos contar o numero de vezes que a palavra Amy aparece podemos usar o findall()\n",
        "re.findall(\"Amy\", text)"
      ],
      "metadata": {
        "colab": {
          "base_uri": "https://localhost:8080/"
        },
        "id": "5RNNixHOMF2o",
        "outputId": "1c6501dc-7723-4995-bd94-ae23c8ce46cf"
      },
      "execution_count": 5,
      "outputs": [
        {
          "output_type": "execute_result",
          "data": {
            "text/plain": [
              "['Amy', 'Amy', 'Amy']"
            ]
          },
          "metadata": {},
          "execution_count": 5
        }
      ]
    },
    {
      "cell_type": "code",
      "source": [
        "\n",
        "# Ok, então vimos que .search() procura algum padrão e retorna um booleano, que .split() usará um\n",
        "# padrão para criar uma lista de substrings, e que .findall() irá procurar um padrão e extrair todos\n",
        "#ocorrências.\n",
        "\n"
      ],
      "metadata": {
        "id": "fAHfBU48MVa4"
      },
      "execution_count": 6,
      "outputs": []
    },
    {
      "cell_type": "code",
      "source": [
        "\n",
        "# Agora que sabemos como funciona a API regex python, vamos falar sobre padrões mais complexos. A expressão regular\n",
        "# especificação padrão define uma linguagem de marcação para descrever padrões em texto. Vamos começar com âncoras.\n",
        "# Âncoras especificam o início e/ou o fim da string que você está tentando corresponder. O caractere de acento circunflexo ^\n",
        "# significa início e o caractere de cifrão $ significa fim. Se você colocar ^ antes de uma string, significa que o texto\n",
        "# que o processador regex recupera deve começar com a string especificada. Para finalizar, você tem que colocar o $\n",
        "# caractere após a string, significa que o texto que o Regex recupera deve terminar com a string que você especificar.\n",
        "\n",
        "# Aqui está um exemplo\n",
        "text = \"Amy works diligently. Amy gets good grades. Our student Amy is succesful.\"\n",
        "\n",
        "# vamos ver se isso começa com Amy\n",
        "re.search(\"^Amy\",text)\n"
      ],
      "metadata": {
        "colab": {
          "base_uri": "https://localhost:8080/"
        },
        "id": "jbAeHxWVMgj4",
        "outputId": "23921215-7836-4909-a83c-091f19bb7500"
      },
      "execution_count": 7,
      "outputs": [
        {
          "output_type": "execute_result",
          "data": {
            "text/plain": [
              "<re.Match object; span=(0, 3), match='Amy'>"
            ]
          },
          "metadata": {},
          "execution_count": 7
        }
      ]
    },
    {
      "cell_type": "code",
      "source": [
        "# Observe que re.search() na verdade nos retornou um novo objeto, chamado objeto re.Match. Um objeto re.Match\n",
        "# sempre tem um valor booleano de True, pois algo foi encontrado, então você sempre pode avaliá-lo em uma instrução if\n",
        "# como fizemos anteriormente. A renderização do objeto de correspondência também informa qual padrão foi correspondido, neste caso\n",
        "# a palavra Amy e o local em que a partida estava, como o intervalo.\n",
        "\n"
      ],
      "metadata": {
        "id": "uTsrZWCmMzoo"
      },
      "execution_count": null,
      "outputs": []
    },
    {
      "cell_type": "markdown",
      "source": [
        "# Padrões e classe de caracteries \n"
      ],
      "metadata": {
        "id": "OpO1S6o3NBPq"
      }
    },
    {
      "cell_type": "code",
      "source": [
        "# Vamos falar mais sobre padrões e começar com as classes de personagens. Vamos criar uma string de um único aluno\n",
        "# notas ao longo de um semestre em um curso em todas as suas tarefas\n",
        "grades=\"ACAAAABCBCBAA\"\n",
        "\n",
        "# se vc quiser saber quantos B aparecem na grade basta fazer \n",
        "re.findall(\"B\",grades)"
      ],
      "metadata": {
        "colab": {
          "base_uri": "https://localhost:8080/"
        },
        "id": "1y7OtZdkNIR9",
        "outputId": "3a2b06df-7be1-4371-e6cb-1ddc54e90adb"
      },
      "execution_count": 8,
      "outputs": [
        {
          "output_type": "execute_result",
          "data": {
            "text/plain": [
              "['B', 'B', 'B']"
            ]
          },
          "metadata": {},
          "execution_count": 8
        }
      ]
    },
    {
      "cell_type": "code",
      "source": [
        "# Se quisermos contar o número de A's ou B's na lista, não podemos usar \"AB\", pois isso é usado para corresponder\n",
        "# todos os A's seguidos imediatamente por um B. Em vez disso, colocamos os caracteres A e B entre colchetes\n",
        "re.findall(\"[AB]\",grades)\n"
      ],
      "metadata": {
        "colab": {
          "base_uri": "https://localhost:8080/"
        },
        "id": "jrbre36jNJ7H",
        "outputId": "5842c993-a371-4950-e96d-cfcd50ff8d9f"
      },
      "execution_count": 9,
      "outputs": [
        {
          "output_type": "execute_result",
          "data": {
            "text/plain": [
              "['A', 'A', 'A', 'A', 'A', 'B', 'B', 'B', 'A', 'A']"
            ]
          },
          "metadata": {},
          "execution_count": 9
        }
      ]
    },
    {
      "cell_type": "code",
      "source": [
        "# Isso é chamado de operador de conjunto. Você também pode incluir um intervalo de caracteres, que são ordenados\n",
        "# alfanumericamente. Por exemplo, se quisermos fazer referência a todas as letras minúsculas, podemos usar [a-z] Vamos construir\n",
        "# um regex simples para analisar todas as instâncias em que este aluno recebe um A seguido por um B ou um C\n",
        "re.findall(\"[A][B-C]\",grades)\n"
      ],
      "metadata": {
        "colab": {
          "base_uri": "https://localhost:8080/"
        },
        "id": "orbVBQNINq2P",
        "outputId": "dd1b0aff-6c4e-43d8-f3bd-f17927d23b1f"
      },
      "execution_count": 10,
      "outputs": [
        {
          "output_type": "execute_result",
          "data": {
            "text/plain": [
              "['AC', 'AB']"
            ]
          },
          "metadata": {},
          "execution_count": 10
        }
      ]
    },
    {
      "cell_type": "code",
      "source": [
        "# Observe como o padrão [AB] descreve um conjunto de caracteres possíveis que podem ser (A OU B), enquanto o\n",
        "# O padrão [A][B-C] denota dois conjuntos de caracteres que devem ter sido correspondidos de trás para frente. Você pode escrever\n",
        "# este padrão usando o operador pipe, o que significa OR\n",
        "\n",
        "re.findall(\"AB|AC\",grades)"
      ],
      "metadata": {
        "colab": {
          "base_uri": "https://localhost:8080/"
        },
        "id": "CQR3dp2cNt7C",
        "outputId": "57d9c815-c3f5-41c4-a0d0-104c2b07d0bb"
      },
      "execution_count": 11,
      "outputs": [
        {
          "output_type": "execute_result",
          "data": {
            "text/plain": [
              "['AC', 'AB']"
            ]
          },
          "metadata": {},
          "execution_count": 11
        }
      ]
    },
    {
      "cell_type": "code",
      "source": [
        "# Podemos usar o acento circunflexo com o operador set para negar nossos resultados. Por exemplo, se quisermos analisar apenas\n",
        "# as notas que não eram A\n",
        "re.findall(\"[^A]\",grades)"
      ],
      "metadata": {
        "colab": {
          "base_uri": "https://localhost:8080/"
        },
        "id": "ClQ7fLuIODsg",
        "outputId": "6841ffce-f9fd-4d45-9c22-5a6f459b4375"
      },
      "execution_count": 12,
      "outputs": [
        {
          "output_type": "execute_result",
          "data": {
            "text/plain": [
              "['C', 'B', 'C', 'B', 'C', 'B']"
            ]
          },
          "metadata": {},
          "execution_count": 12
        }
      ]
    },
    {
      "cell_type": "code",
      "source": [
        "# Observe isso com cuidado - o acento circunflexo foi previamente combinado com o início de uma string como um ponto de ancoragem, mas\n",
        "# dentro do operador set o acento circunflexo, e os outros caracteres especiais sobre os quais falaremos, perdem seus\n",
        "# significado. Isso pode ser um pouco confuso. Qual você acha que seria o resultado disso?\n",
        "re.findall(\"^[^A]\",grades)"
      ],
      "metadata": {
        "colab": {
          "base_uri": "https://localhost:8080/"
        },
        "id": "dPxWQaYAOOtN",
        "outputId": "599ee581-c55e-49b5-a11b-cbfc74bf2846"
      },
      "execution_count": 13,
      "outputs": [
        {
          "output_type": "execute_result",
          "data": {
            "text/plain": [
              "[]"
            ]
          },
          "metadata": {},
          "execution_count": 13
        }
      ]
    },
    {
      "cell_type": "code",
      "source": [
        "# É uma lista vazia, porque a regex diz que queremos corresponder a qualquer valor no início da string\n",
        "# que não é um A. Nossa string começa com um A, então não há correspondência encontrada. E lembre-se quando você estiver\n",
        "# usando o operador set você está fazendo a correspondência baseada em caracteres. Então você está combinando caracteres individuais em\n",
        "# um método OR."
      ],
      "metadata": {
        "id": "Zm03s9LZOTe4"
      },
      "execution_count": 14,
      "outputs": []
    },
    {
      "cell_type": "markdown",
      "source": [
        "# quantificadores "
      ],
      "metadata": {
        "id": "paGE87YWO2Up"
      }
    },
    {
      "cell_type": "code",
      "source": [
        "# Quantificadores são o número de vezes que você deseja que um padrão seja correspondido para corresponder. O mais básico\n",
        "# quantificador é expresso como e{m,n}, onde e é a expressão ou caractere que estamos combinando, m é o mínimo\n",
        "# número de vezes que você deseja que ele corresponda e n é o número máximo de vezes que o item pode ser correspondido.\n",
        "\n",
        "# Vamos usar essas notas como exemplo. Quantas vezes este aluno esteve em uma sequência A consecutiva?\n",
        "re.findall(\"A{2,10}\",grades) #usaremos 2 como nosso mínimo, mas dez como nosso máximo\n",
        "\n"
      ],
      "metadata": {
        "colab": {
          "base_uri": "https://localhost:8080/"
        },
        "id": "io1ha68mO6U4",
        "outputId": "048706d6-25ce-4322-c082-88f6eaa70a4f"
      },
      "execution_count": 15,
      "outputs": [
        {
          "output_type": "execute_result",
          "data": {
            "text/plain": [
              "['AAAA', 'AA']"
            ]
          },
          "metadata": {},
          "execution_count": 15
        }
      ]
    },
    {
      "cell_type": "code",
      "source": [
        "# Então vemos que havia duas faixas, uma onde o aluno tinha quatro A's, e outra onde eles tinham apenas dois\n",
        "# Como\n",
        "\n",
        "# Podemos tentar fazer isso usando valores únicos e apenas repetindo o padrão\n",
        "re.findall(\"A{1,1}A{1,1}\",grades)"
      ],
      "metadata": {
        "colab": {
          "base_uri": "https://localhost:8080/"
        },
        "id": "GcYQl2XFPGTT",
        "outputId": "71fd68bf-aaac-4f7d-e239-6e0d9e19fcda"
      },
      "execution_count": 17,
      "outputs": [
        {
          "output_type": "execute_result",
          "data": {
            "text/plain": [
              "['AA', 'AA', 'AA']"
            ]
          },
          "metadata": {},
          "execution_count": 17
        }
      ]
    },
    {
      "cell_type": "code",
      "source": [
        "# Como você pode ver, isso é diferente do primeiro exemplo. O primeiro padrão está procurando qualquer combinação\n",
        "# de dois A's até dez A's seguidos. Então ele vê quatro A's como uma única sequência. O segundo padrão está procurando\n",
        "# dois A's de costas um para o outro, então ele vê dois A's seguidos imediatamente por mais dois A's. Dizemos que o regex\n",
        "# o processador começa no início da string e consome variáveis ​​que combinam com os padrões.\n",
        "\n",
        "# É importante notar que a sintaxe do quantificador regex não permite que você se desvie do {m,n}\n",
        "# padronizar. Em particular, se você tiver um espaço extra entre as chaves, obterá um resultado vazio\n",
        "re.findall(\"A{2, 2}\",grades)"
      ],
      "metadata": {
        "colab": {
          "base_uri": "https://localhost:8080/"
        },
        "id": "PDmLUMhzPQ8-",
        "outputId": "65571930-faa9-4878-db04-8a02f106bd28"
      },
      "execution_count": 18,
      "outputs": [
        {
          "output_type": "execute_result",
          "data": {
            "text/plain": [
              "[]"
            ]
          },
          "metadata": {},
          "execution_count": 18
        }
      ]
    },
    {
      "cell_type": "code",
      "source": [
        "# E como já vimos, se não incluirmos um quantificador então o padrão é {1,1}\n",
        "re.findall(\"AA\",grades)"
      ],
      "metadata": {
        "colab": {
          "base_uri": "https://localhost:8080/"
        },
        "id": "GxSZPkQMPW3J",
        "outputId": "1b9cf87d-3f70-4e76-db58-a959b2193bf8"
      },
      "execution_count": 20,
      "outputs": [
        {
          "output_type": "execute_result",
          "data": {
            "text/plain": [
              "['AA', 'AA', 'AA']"
            ]
          },
          "metadata": {},
          "execution_count": 20
        }
      ]
    },
    {
      "cell_type": "code",
      "source": [
        "#e se você tiver apenas um número entre chaves, é considerado tanto m quanto n\n",
        "re.findall(\"A{2}\",grades)"
      ],
      "metadata": {
        "colab": {
          "base_uri": "https://localhost:8080/"
        },
        "id": "VD7qtSrfPchZ",
        "outputId": "acc57533-4906-48b5-e09f-2d0b1c0ecb50"
      },
      "execution_count": 21,
      "outputs": [
        {
          "output_type": "execute_result",
          "data": {
            "text/plain": [
              "['AA', 'AA', 'AA']"
            ]
          },
          "metadata": {},
          "execution_count": 21
        }
      ]
    },
    {
      "cell_type": "code",
      "source": [
        "# Usando isso, podemos encontrar uma tendência decrescente nas notas de um aluno\n",
        "re.findall(\"A{1,10}B{1,10}C{1,10}\",grades)"
      ],
      "metadata": {
        "colab": {
          "base_uri": "https://localhost:8080/"
        },
        "id": "KNF0d9HaPoHO",
        "outputId": "7290b963-78c2-451a-a9d2-5e7df53374be"
      },
      "execution_count": 22,
      "outputs": [
        {
          "output_type": "execute_result",
          "data": {
            "text/plain": [
              "['AAAABC']"
            ]
          },
          "metadata": {},
          "execution_count": 22
        }
      ]
    },
    {
      "cell_type": "code",
      "source": [
        "# Agora, isso é um pouco complicado, porque incluímos um máximo que era apenas arbitrariamente grande. Há três\n",
        "# outros quantificadores que são usados ​​como mão curta, um asterisco * para corresponder 0 ou mais vezes, um ponto de interrogação ? para\n",
        "# corresponde uma ou mais vezes, ou um sinal + mais para corresponder uma ou mais vezes. Vejamos um exemplo mais complexo,\n",
        "# e carregue alguns dados extraídos da wikipedia\n",
        "with open(\"/content/ferpa.txt\",\"r\") as file:\n",
        "    # we'll read that into a variable called wiki\n",
        "    wiki=file.read()\n",
        "# and lets print that variable out to the screen\n",
        "wiki"
      ],
      "metadata": {
        "colab": {
          "base_uri": "https://localhost:8080/",
          "height": 239
        },
        "id": "PUj5_9MbPuFq",
        "outputId": "014b1d66-80d3-492b-e7f2-cb122ec96bd9"
      },
      "execution_count": 24,
      "outputs": [
        {
          "output_type": "execute_result",
          "data": {
            "text/plain": [
              "'\\'Overview[edit]\\\\nFERPA gives parents access to their child\\\\\\'s education records, an opportunity to seek to have the records amended, and some control over the disclosure of information from the records. With several exceptions, schools must have a student\\\\\\'s consent prior to the disclosure of education records after that student is 18 years old. The law applies only to educational agencies and institutions that receive funds under a program administered by the U.S. Department of Education.\\\\n\\\\nOther regulations under this act, effective starting January 3, 2012, allow for greater disclosures of personal and directory student identifying information and regulate student IDs and e-mail addresses.[2] For example, schools may provide external companies with a student\\\\\\'s personally identifiable information without the student\\\\\\'s consent.[2]\\\\n\\\\nExamples of situations affected by FERPA include school employees divulging information to anyone other than the student about the student\\\\\\'s grades or behavior, and school work posted on a bulletin board with a grade. Generally, schools must have written permission from the parent or eligible student in order to release any information from a student\\\\\\'s education record.\\\\n\\\\nThis privacy policy also governs how state agencies transmit testing data to federal agencies, such as the Education Data Exchange Network.\\\\n\\\\nThis U.S. federal law also gave students 18 years of age or older, or students of any age if enrolled in any post-secondary educational institution, the right of privacy regarding grades, enrollment, and even billing information unless the school has specific permission from the student to share that specific type of information.\\\\n\\\\nFERPA also permits a school to disclose personally identifiable information from education records of an \"eligible student\" (a student age 18 or older or enrolled in a postsecondary institution at any age) to his or her parents if the student is a \"dependent student\" as that term is defined in Section 152 of the Internal Revenue Code. Generally, if either parent has claimed the student as a dependent on the parent\\\\\\'s most recent income tax statement, the school may non-consensually disclose the student\\\\\\'s education records to both parents.[3]\\\\n\\\\nThe law allowed students who apply to an educational institution such as graduate school permission to view recommendations submitted by others as part of the application. However, on standard application forms, students are given the option to waive this right.\\\\n\\\\nFERPA specifically excludes employees of an educational institution if they are not students.\\\\n\\\\nThe act is also referred to as the Buckley Amendment, for one of its proponents, Senator James L. Buckley of New York.\\\\n\\\\nAccess to public records[edit]\\\\nThe citing of FERPA to conceal public records that are not \"educational\" in nature has been widely criticized, including by the act\\\\\\'s primary Senate sponsor.[4] For example, in the Owasso Independent School District v. Falvo case, an important part of the debate was determining the relationship between peer-grading and \"education records\" as defined in FERPA. In the Court of Appeals, it was ruled that students placing grades on the work of other students made such work into an \"education record.\" Thus, peer-grading was determined as a violation of FERPA privacy policies because students had access to other students\\\\\\' academic performance without full consent.[5] However, when the case went to the Supreme Court, it was officially ruled that peer-grading was not a violation of FERPA. This is because a grade written on a student\\\\\\'s work does not become an \"education record\" until the teacher writes the final grade into a grade book.[6]\\\\n\\\\nStudent medical records[edit]\\\\nLegal experts have debated the issue of whether student medical records (for example records of therapy sessions with a therapist at an on-campus counseling center) might be released to the school administration under certain triggering events, such as when a student sued his college or university.[7][8]\\\\n\\\\nUsually, student medical treatment records will remain under the protection of FERPA, not the Health Insurance Portability and Accountability Act (HIPAA). This is due to the \"FERPA Exception\" written within HIPAA.[9]\\''"
            ],
            "application/vnd.google.colaboratory.intrinsic+json": {
              "type": "string"
            }
          },
          "metadata": {},
          "execution_count": 24
        }
      ]
    },
    {
      "cell_type": "code",
      "source": [
        "# Escaneando este documento, uma das coisas que notamos é que todos os cabeçalhos têm as palavras [editar]\n",
        "# atrás deles, seguido por um caractere de nova linha. Então, se quisermos obter uma lista de todos os cabeçalhos neste\n",
        "# artigo podemos fazer isso usando re.findall\n",
        "re.findall(\"[a-zA-Z]{1,100}\\[edit\\]\",wiki)"
      ],
      "metadata": {
        "colab": {
          "base_uri": "https://localhost:8080/"
        },
        "id": "cn25hSGaQgM3",
        "outputId": "f019ded2-ce66-4a0f-88d2-334a7e859c18"
      },
      "execution_count": 25,
      "outputs": [
        {
          "output_type": "execute_result",
          "data": {
            "text/plain": [
              "['Overview[edit]', 'records[edit]', 'records[edit]']"
            ]
          },
          "metadata": {},
          "execution_count": 25
        }
      ]
    },
    {
      "cell_type": "code",
      "source": [
        "# Ok, isso não funcionou muito bem. Ele tem todos os cabeçalhos, mas apenas a última palavra do cabeçalho, e realmente\n",
        "# foi bastante desajeitado. Vamos melhorar isso iterativamente. Primeiro, podemos usar \\w para corresponder a qualquer letra, incluindo dígitos\n",
        "# e números.\n",
        "re.findall(\"[\\w]{1,100}\\[edit\\]\",wiki)"
      ],
      "metadata": {
        "colab": {
          "base_uri": "https://localhost:8080/"
        },
        "id": "rQ-1T79LQxt7",
        "outputId": "d9473a30-0d3d-49d5-d19f-7c8320f185a6"
      },
      "execution_count": 27,
      "outputs": [
        {
          "output_type": "execute_result",
          "data": {
            "text/plain": [
              "['Overview[edit]', 'records[edit]', 'records[edit]']"
            ]
          },
          "metadata": {},
          "execution_count": 27
        }
      ]
    },
    {
      "cell_type": "code",
      "source": [
        "# Isso é algo novo. \\w é um metacaractere e indica um padrão especial de qualquer letra ou dígito. Lá\n",
        "# são na verdade vários metacaracteres diferentes listados na documentação. Por exemplo, \\s corresponde a qualquer\n",
        "# caractere de espaço em branco.\n",
        "\n",
        "# Em seguida, existem três outros quantificadores que podemos usar que encurtam a sintaxe das chaves. Podemos usar um\n",
        "# asterix * para corresponder 0 ou mais vezes, então vamos tentar isso\n",
        "re.findall(\"[\\w]*\\[edit\\]\",wiki)"
      ],
      "metadata": {
        "colab": {
          "base_uri": "https://localhost:8080/"
        },
        "id": "YQ4-QeNLQ9WJ",
        "outputId": "e2ffee19-3495-4c85-a9ec-c09cfbc14150"
      },
      "execution_count": 28,
      "outputs": [
        {
          "output_type": "execute_result",
          "data": {
            "text/plain": [
              "['Overview[edit]', 'records[edit]', 'records[edit]']"
            ]
          },
          "metadata": {},
          "execution_count": 28
        }
      ]
    },
    {
      "cell_type": "code",
      "source": [
        "# Agora que encurtamos a regex, vamos melhorá-la um pouco. Podemos adicionar espaços usando o espaço\n",
        "# personagem\n",
        "re.findall(\"[\\w ]*\\[edit\\]\",wiki)"
      ],
      "metadata": {
        "colab": {
          "base_uri": "https://localhost:8080/"
        },
        "id": "8ByeS0tIRDRH",
        "outputId": "bc6d501b-89fb-479d-adb4-be0ff88e9ea4"
      },
      "execution_count": 29,
      "outputs": [
        {
          "output_type": "execute_result",
          "data": {
            "text/plain": [
              "['Overview[edit]',\n",
              " 'nAccess to public records[edit]',\n",
              " 'nStudent medical records[edit]']"
            ]
          },
          "metadata": {},
          "execution_count": 29
        }
      ]
    },
    {
      "cell_type": "code",
      "source": [
        "# Ok, isso nos dá a lista de títulos de seções na página da wikipedia! Agora você pode criar uma lista de títulos\n",
        "# iterando por isso e aplicando outro regex\n",
        "for title in re.findall(\"[\\w ]*\\[edit\\]\",wiki):\n",
        "    # Agora vamos pegar esse resultado intermediário e dividir no colchete [ apenas pegando o primeiro resultado\n",
        "    print(re.split(\"[\\[]\",title)[0])\n"
      ],
      "metadata": {
        "colab": {
          "base_uri": "https://localhost:8080/"
        },
        "id": "eQ8Bhrg1RNLY",
        "outputId": "290f7d85-3c2a-49ea-c01d-f1f84e6b39df"
      },
      "execution_count": 30,
      "outputs": [
        {
          "output_type": "stream",
          "name": "stdout",
          "text": [
            "Overview\n",
            "nAccess to public records\n",
            "nStudent medical records\n"
          ]
        }
      ]
    },
    {
      "cell_type": "markdown",
      "source": [
        "# Grupos"
      ],
      "metadata": {
        "id": "s-d1YVEKRXV9"
      }
    },
    {
      "cell_type": "code",
      "source": [
        "# Ok, isso funciona, mas é um pouco doloroso. Até este ponto, temos falado sobre uma regex como uma única\n",
        "# padrão que é correspondido. Mas, na verdade, você pode combinar diferentes padrões, chamados grupos, ao mesmo tempo,\n",
        "# e, em seguida, consulte os grupos desejados. Para agrupar padrões, você usa parênteses, o que na verdade é\n",
        "# bastante natural. Vamos reescrever nosso findall usando grupos\n",
        "re.findall(\"([\\w ]*)(\\[edit\\])\",wiki)"
      ],
      "metadata": {
        "colab": {
          "base_uri": "https://localhost:8080/"
        },
        "id": "GcwtCc9ORb_3",
        "outputId": "ac6f6fd0-1f83-4287-8773-a8af495045fe"
      },
      "execution_count": 31,
      "outputs": [
        {
          "output_type": "execute_result",
          "data": {
            "text/plain": [
              "[('Overview', '[edit]'),\n",
              " ('nAccess to public records', '[edit]'),\n",
              " ('nStudent medical records', '[edit]')]"
            ]
          },
          "metadata": {},
          "execution_count": 31
        }
      ]
    },
    {
      "cell_type": "code",
      "source": [
        "# Legal - vemos que o módulo python re divide o resultado por grupo. Na verdade, podemos nos referir a grupos por\n",
        "# number também com os objetos de correspondência que são retornados. Mas, como podemos obter de volta uma lista de objetos de correspondência?\n",
        "# Até agora vimos que findall() retorna strings, e search() e match() retornam Match individual\n",
        "#objetos. Mas o que fazemos se queremos uma lista de objetos Match? Neste caso, usamos a função finditer()\n",
        "for item in re.finditer(\"([\\w ]*)(\\[edit\\])\",wiki):\n",
        "    print(item.groups())"
      ],
      "metadata": {
        "colab": {
          "base_uri": "https://localhost:8080/"
        },
        "id": "HFSNFe7JRiei",
        "outputId": "96011b72-9823-4712-d00e-5586f085e604"
      },
      "execution_count": 32,
      "outputs": [
        {
          "output_type": "stream",
          "name": "stdout",
          "text": [
            "('Overview', '[edit]')\n",
            "('nAccess to public records', '[edit]')\n",
            "('nStudent medical records', '[edit]')\n"
          ]
        }
      ]
    },
    {
      "cell_type": "code",
      "source": [
        "# Vemos aqui que o método groups() retorna uma tupla do grupo. Podemos obter um grupo individual usando\n",
        "# group(number), onde group(0) é a correspondência inteira, e cada outro número é a parte da correspondência que somos\n",
        "# interessado. Neste caso, queremos group(1)\n",
        "for item in re.finditer(\"([\\w ]*)(\\[edit\\])\",wiki):\n",
        "    print(item.group(1))"
      ],
      "metadata": {
        "colab": {
          "base_uri": "https://localhost:8080/"
        },
        "id": "m41gnLdNRuwS",
        "outputId": "99864717-9058-4ecc-8c71-036dd04974a5"
      },
      "execution_count": 33,
      "outputs": [
        {
          "output_type": "stream",
          "name": "stdout",
          "text": [
            "Overview\n",
            "nAccess to public records\n",
            "nStudent medical records\n"
          ]
        }
      ]
    },
    {
      "cell_type": "code",
      "source": [
        "# Mais uma peça para grupos de regex que raramente uso, mas é uma boa ideia rotular ou nomear grupos. No\n",
        "# exemplo anterior Mostrei como você pode usar a posição do grupo. Mas dando-lhes um rótulo e olhando\n",
        "# nos resultados como um dicionário é bastante útil. Para isso usamos a sintaxe (?P<nome>), onde os parênteses\n",
        "# inicia o grupo, o ?P indica que esta é uma extensão para regexes básicos, e <nome> é o dicionário\n",
        "# chave que queremos usar dentro de <>.\n",
        "for item in re.finditer(\"(?P<title>[\\w ]*)(?P<edit_link>\\[edit\\])\",wiki):\n",
        "    \n",
        "    # Podemos obter o dicionário retornado para o item com .groupdict()\n",
        "    print(item.groupdict()['title'])"
      ],
      "metadata": {
        "colab": {
          "base_uri": "https://localhost:8080/"
        },
        "id": "5yUOOhKuR6Ce",
        "outputId": "91dbd53a-10e7-4685-c17a-df101dd07604"
      },
      "execution_count": 34,
      "outputs": [
        {
          "output_type": "stream",
          "name": "stdout",
          "text": [
            "Overview\n",
            "nAccess to public records\n",
            "nStudent medical records\n"
          ]
        }
      ]
    },
    {
      "cell_type": "code",
      "source": [
        "# Claro, podemos imprimir o dicionário inteiro para o item também, e ver que a string [edit] ainda está\n",
        "# lá. Aqui está o dicionário guardado para a última partida\n",
        "print(item.groupdict())"
      ],
      "metadata": {
        "colab": {
          "base_uri": "https://localhost:8080/"
        },
        "id": "Kw5U1xIqSFsV",
        "outputId": "65eed7c0-0437-4502-c7f7-579eb0afb83a"
      },
      "execution_count": 35,
      "outputs": [
        {
          "output_type": "stream",
          "name": "stdout",
          "text": [
            "{'title': 'nStudent medical records', 'edit_link': '[edit]'}\n"
          ]
        }
      ]
    }
  ]
}