{
  "nbformat": 4,
  "nbformat_minor": 0,
  "metadata": {
    "colab": {
      "name": "Numpy.ipynb",
      "provenance": [],
      "authorship_tag": "ABX9TyPen/OIsiwJnBrSbeT8SuqX"
    },
    "kernelspec": {
      "name": "python3",
      "display_name": "Python 3"
    },
    "language_info": {
      "name": "python"
    }
  },
  "cells": [
    {
      "cell_type": "code",
      "execution_count": 1,
      "metadata": {
        "id": "fgjBUqtpwsl8"
      },
      "outputs": [],
      "source": [
        "# é comum abreviar a biblioteca numpy como np \n",
        "import numpy as np\n",
        "import math\n",
        "\n"
      ]
    },
    {
      "cell_type": "code",
      "source": [
        "#arrays são exibidos com uma lista ou lista de listas \n",
        "#vamos criar uma array, passando uma lista de argumentos para ele\n",
        "a = np.array([1, 2, 3])\n",
        "print(a)\n",
        "# podemos imprimir a dimensão dessa lista usando ndim atributo\n",
        "print(a.ndim)"
      ],
      "metadata": {
        "colab": {
          "base_uri": "https://localhost:8080/"
        },
        "id": "iBrEz6uhxJpI",
        "outputId": "3fd9a5ac-1b69-4f26-8d93-3c075d72e84c"
      },
      "execution_count": 2,
      "outputs": [
        {
          "output_type": "stream",
          "name": "stdout",
          "text": [
            "[1 2 3]\n",
            "1\n"
          ]
        }
      ]
    },
    {
      "cell_type": "code",
      "source": [
        "#se criarmos uma lista contendo listas com numpy.array teremos um array multi - dimensional\n",
        "b = np.array([[1,2,3],[4,5,6]])\n",
        "b"
      ],
      "metadata": {
        "colab": {
          "base_uri": "https://localhost:8080/"
        },
        "id": "dsiqVhHgxole",
        "outputId": "047a08aa-573a-4ec0-c436-fc7a48569cd9"
      },
      "execution_count": 4,
      "outputs": [
        {
          "output_type": "execute_result",
          "data": {
            "text/plain": [
              "array([[1, 2, 3],\n",
              "       [4, 5, 6]])"
            ]
          },
          "metadata": {},
          "execution_count": 4
        }
      ]
    },
    {
      "cell_type": "code",
      "source": [
        "#nos podemos imprimir a dimensão desse array com o atributo .shape\n",
        "b.shape"
      ],
      "metadata": {
        "colab": {
          "base_uri": "https://localhost:8080/"
        },
        "id": "Geu-kRGZyRUe",
        "outputId": "9fc24c10-8b49-407e-f3a8-e1e4d5ba8df3"
      },
      "execution_count": 6,
      "outputs": [
        {
          "output_type": "execute_result",
          "data": {
            "text/plain": [
              "(2, 3)"
            ]
          },
          "metadata": {},
          "execution_count": 6
        }
      ]
    },
    {
      "cell_type": "code",
      "source": [
        "#podemos verificar o tipo de items no array\n",
        "a.dtype"
      ],
      "metadata": {
        "colab": {
          "base_uri": "https://localhost:8080/"
        },
        "id": "7_A3WMoFyaS-",
        "outputId": "055a728b-b0ba-4fb1-8b79-168d5b88644d"
      },
      "execution_count": 7,
      "outputs": [
        {
          "output_type": "execute_result",
          "data": {
            "text/plain": [
              "dtype('int64')"
            ]
          },
          "metadata": {},
          "execution_count": 7
        }
      ]
    },
    {
      "cell_type": "code",
      "source": [
        "# se usarmos float \n",
        "c = np.array([2.2, 5, 1.1])\n",
        "c.dtype.name"
      ],
      "metadata": {
        "colab": {
          "base_uri": "https://localhost:8080/",
          "height": 36
        },
        "id": "32_zejsPyspv",
        "outputId": "ee2364b0-827c-4f90-a819-a2ce193c6271"
      },
      "execution_count": 8,
      "outputs": [
        {
          "output_type": "execute_result",
          "data": {
            "text/plain": [
              "'float64'"
            ],
            "application/vnd.google.colaboratory.intrinsic+json": {
              "type": "string"
            }
          },
          "metadata": {},
          "execution_count": 8
        }
      ]
    },
    {
      "cell_type": "code",
      "source": [
        "c"
      ],
      "metadata": {
        "colab": {
          "base_uri": "https://localhost:8080/"
        },
        "id": "1J-biKnmy8zt",
        "outputId": "6be69bf8-dff9-454d-fdd9-14c3eb8276e7"
      },
      "execution_count": 9,
      "outputs": [
        {
          "output_type": "execute_result",
          "data": {
            "text/plain": [
              "array([2.2, 5. , 1.1])"
            ]
          },
          "metadata": {},
          "execution_count": 9
        }
      ]
    },
    {
      "cell_type": "code",
      "source": [
        "#note que o numpy transformou o 5 em numero flutuante para tornar nosso tipo de dados homogeneo\n",
        "#vamos criar 2 array do mesmo tamanho mas com valores diferentes\n",
        "\n",
        "d = np.zeros((2,3))\n",
        "print(d)\n",
        "\n",
        "e = np.ones((2,3))\n",
        "print(e)"
      ],
      "metadata": {
        "colab": {
          "base_uri": "https://localhost:8080/"
        },
        "id": "jb7aB_2Ly91P",
        "outputId": "62ec704f-45f2-431e-f35f-894c8383c74d"
      },
      "execution_count": 10,
      "outputs": [
        {
          "output_type": "stream",
          "name": "stdout",
          "text": [
            "[[0. 0. 0.]\n",
            " [0. 0. 0.]]\n",
            "[[1. 1. 1.]\n",
            " [1. 1. 1.]]\n"
          ]
        }
      ]
    },
    {
      "cell_type": "code",
      "source": [
        "#vamos gerar tbm um array com numeros randomicos\n",
        "np.random.rand(2,3)"
      ],
      "metadata": {
        "colab": {
          "base_uri": "https://localhost:8080/"
        },
        "id": "py9icKn2zQ5t",
        "outputId": "4c3d4163-edc9-4adf-c0cd-0afe03cc49f3"
      },
      "execution_count": 12,
      "outputs": [
        {
          "output_type": "execute_result",
          "data": {
            "text/plain": [
              "array([[0.27925212, 0.25745727, 0.89727755],\n",
              "       [0.82879251, 0.54344565, 0.14234487]])"
            ]
          },
          "metadata": {},
          "execution_count": 12
        }
      ]
    },
    {
      "cell_type": "code",
      "source": [
        "#podemos usar o np.arange para criar uma sequencia de numeros o primeiro argumento e o começo \n",
        "# e o segundo argumento e o final, já o terceiro arumento e o intervalo que este numero vai seguir\n",
        "f = np.arange(10, 50, 2)\n",
        "f"
      ],
      "metadata": {
        "colab": {
          "base_uri": "https://localhost:8080/"
        },
        "id": "7ZuXvjC0zbHu",
        "outputId": "bb02da91-6e94-464c-a99f-43f02ddcd972"
      },
      "execution_count": 15,
      "outputs": [
        {
          "output_type": "execute_result",
          "data": {
            "text/plain": [
              "array([10, 12, 14, 16, 18, 20, 22, 24, 26, 28, 30, 32, 34, 36, 38, 40, 42,\n",
              "       44, 46, 48])"
            ]
          },
          "metadata": {},
          "execution_count": 15
        }
      ]
    },
    {
      "cell_type": "code",
      "source": [
        "#podemos gerar um sequencia com numeros flutuantes usando linspace()\n",
        "#o terceiro arumento e a quantidade de numeros que queremos gerar \n",
        "\n",
        "np.linspace( 0, 2, 15 ) # 15 numeros entre 0 e 2"
      ],
      "metadata": {
        "colab": {
          "base_uri": "https://localhost:8080/"
        },
        "id": "KQJO0J5ozm_u",
        "outputId": "d27379a3-bb00-4eaa-aac6-5bc1873b1311"
      },
      "execution_count": 16,
      "outputs": [
        {
          "output_type": "execute_result",
          "data": {
            "text/plain": [
              "array([0.        , 0.14285714, 0.28571429, 0.42857143, 0.57142857,\n",
              "       0.71428571, 0.85714286, 1.        , 1.14285714, 1.28571429,\n",
              "       1.42857143, 1.57142857, 1.71428571, 1.85714286, 2.        ])"
            ]
          },
          "metadata": {},
          "execution_count": 16
        }
      ]
    },
    {
      "cell_type": "code",
      "source": [
        ""
      ],
      "metadata": {
        "id": "R4PrcYdQ0rhf"
      },
      "execution_count": null,
      "outputs": []
    },
    {
      "cell_type": "markdown",
      "source": [
        "# Operações com Array\n"
      ],
      "metadata": {
        "id": "rD5mvbIx0usJ"
      }
    }
  ]
}