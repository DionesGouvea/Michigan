{
  "nbformat": 4,
  "nbformat_minor": 0,
  "metadata": {
    "colab": {
      "name": "Numpy.ipynb",
      "provenance": [],
      "authorship_tag": "ABX9TyPgWH9gRXJbMadXgMMaDsgu"
    },
    "kernelspec": {
      "name": "python3",
      "display_name": "Python 3"
    },
    "language_info": {
      "name": "python"
    }
  },
  "cells": [
    {
      "cell_type": "code",
      "execution_count": 1,
      "metadata": {
        "id": "fgjBUqtpwsl8"
      },
      "outputs": [],
      "source": [
        "# é comum abreviar a biblioteca numpy como np \n",
        "import numpy as np\n",
        "import math\n",
        "\n"
      ]
    },
    {
      "cell_type": "code",
      "source": [
        "#arrays são exibidos com uma lista ou lista de listas \n",
        "#vamos criar uma array, passando uma lista de argumentos para ele\n",
        "a = np.array([1, 2, 3])\n",
        "print(a)\n",
        "# podemos imprimir a dimensão dessa lista usando ndim atributo\n",
        "print(a.ndim)"
      ],
      "metadata": {
        "colab": {
          "base_uri": "https://localhost:8080/"
        },
        "id": "iBrEz6uhxJpI",
        "outputId": "3fd9a5ac-1b69-4f26-8d93-3c075d72e84c"
      },
      "execution_count": 2,
      "outputs": [
        {
          "output_type": "stream",
          "name": "stdout",
          "text": [
            "[1 2 3]\n",
            "1\n"
          ]
        }
      ]
    },
    {
      "cell_type": "code",
      "source": [
        ""
      ],
      "metadata": {
        "id": "dsiqVhHgxole"
      },
      "execution_count": null,
      "outputs": []
    }
  ]
}