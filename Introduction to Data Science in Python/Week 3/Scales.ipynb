{
  "nbformat": 4,
  "nbformat_minor": 0,
  "metadata": {
    "colab": {
      "name": "Scales.ipynb",
      "provenance": [],
      "authorship_tag": "ABX9TyM9YVCfuTcP3Z6+FKkEE0OE"
    },
    "kernelspec": {
      "name": "python3",
      "display_name": "Python 3"
    },
    "language_info": {
      "name": "python"
    }
  },
  "cells": [
    {
      "cell_type": "code",
      "execution_count": 2,
      "metadata": {
        "colab": {
          "base_uri": "https://localhost:8080/",
          "height": 394
        },
        "id": "pLOT_vd2vR1t",
        "outputId": "c199616a-3824-4b30-b93f-6a4e6c8d14f7"
      },
      "outputs": [
        {
          "output_type": "execute_result",
          "data": {
            "text/plain": [
              "          Grades\n",
              "excellent     A+\n",
              "excellent      A\n",
              "excellent     A-\n",
              "good          B+\n",
              "good           B\n",
              "good          B-\n",
              "ok            C+\n",
              "ok             C\n",
              "ok            C-\n",
              "poor          D+\n",
              "poor           D"
            ],
            "text/html": [
              "\n",
              "  <div id=\"df-535a7481-3fb0-45a4-8121-1b56d2fa71ab\">\n",
              "    <div class=\"colab-df-container\">\n",
              "      <div>\n",
              "<style scoped>\n",
              "    .dataframe tbody tr th:only-of-type {\n",
              "        vertical-align: middle;\n",
              "    }\n",
              "\n",
              "    .dataframe tbody tr th {\n",
              "        vertical-align: top;\n",
              "    }\n",
              "\n",
              "    .dataframe thead th {\n",
              "        text-align: right;\n",
              "    }\n",
              "</style>\n",
              "<table border=\"1\" class=\"dataframe\">\n",
              "  <thead>\n",
              "    <tr style=\"text-align: right;\">\n",
              "      <th></th>\n",
              "      <th>Grades</th>\n",
              "    </tr>\n",
              "  </thead>\n",
              "  <tbody>\n",
              "    <tr>\n",
              "      <th>excellent</th>\n",
              "      <td>A+</td>\n",
              "    </tr>\n",
              "    <tr>\n",
              "      <th>excellent</th>\n",
              "      <td>A</td>\n",
              "    </tr>\n",
              "    <tr>\n",
              "      <th>excellent</th>\n",
              "      <td>A-</td>\n",
              "    </tr>\n",
              "    <tr>\n",
              "      <th>good</th>\n",
              "      <td>B+</td>\n",
              "    </tr>\n",
              "    <tr>\n",
              "      <th>good</th>\n",
              "      <td>B</td>\n",
              "    </tr>\n",
              "    <tr>\n",
              "      <th>good</th>\n",
              "      <td>B-</td>\n",
              "    </tr>\n",
              "    <tr>\n",
              "      <th>ok</th>\n",
              "      <td>C+</td>\n",
              "    </tr>\n",
              "    <tr>\n",
              "      <th>ok</th>\n",
              "      <td>C</td>\n",
              "    </tr>\n",
              "    <tr>\n",
              "      <th>ok</th>\n",
              "      <td>C-</td>\n",
              "    </tr>\n",
              "    <tr>\n",
              "      <th>poor</th>\n",
              "      <td>D+</td>\n",
              "    </tr>\n",
              "    <tr>\n",
              "      <th>poor</th>\n",
              "      <td>D</td>\n",
              "    </tr>\n",
              "  </tbody>\n",
              "</table>\n",
              "</div>\n",
              "      <button class=\"colab-df-convert\" onclick=\"convertToInteractive('df-535a7481-3fb0-45a4-8121-1b56d2fa71ab')\"\n",
              "              title=\"Convert this dataframe to an interactive table.\"\n",
              "              style=\"display:none;\">\n",
              "        \n",
              "  <svg xmlns=\"http://www.w3.org/2000/svg\" height=\"24px\"viewBox=\"0 0 24 24\"\n",
              "       width=\"24px\">\n",
              "    <path d=\"M0 0h24v24H0V0z\" fill=\"none\"/>\n",
              "    <path d=\"M18.56 5.44l.94 2.06.94-2.06 2.06-.94-2.06-.94-.94-2.06-.94 2.06-2.06.94zm-11 1L8.5 8.5l.94-2.06 2.06-.94-2.06-.94L8.5 2.5l-.94 2.06-2.06.94zm10 10l.94 2.06.94-2.06 2.06-.94-2.06-.94-.94-2.06-.94 2.06-2.06.94z\"/><path d=\"M17.41 7.96l-1.37-1.37c-.4-.4-.92-.59-1.43-.59-.52 0-1.04.2-1.43.59L10.3 9.45l-7.72 7.72c-.78.78-.78 2.05 0 2.83L4 21.41c.39.39.9.59 1.41.59.51 0 1.02-.2 1.41-.59l7.78-7.78 2.81-2.81c.8-.78.8-2.07 0-2.86zM5.41 20L4 18.59l7.72-7.72 1.47 1.35L5.41 20z\"/>\n",
              "  </svg>\n",
              "      </button>\n",
              "      \n",
              "  <style>\n",
              "    .colab-df-container {\n",
              "      display:flex;\n",
              "      flex-wrap:wrap;\n",
              "      gap: 12px;\n",
              "    }\n",
              "\n",
              "    .colab-df-convert {\n",
              "      background-color: #E8F0FE;\n",
              "      border: none;\n",
              "      border-radius: 50%;\n",
              "      cursor: pointer;\n",
              "      display: none;\n",
              "      fill: #1967D2;\n",
              "      height: 32px;\n",
              "      padding: 0 0 0 0;\n",
              "      width: 32px;\n",
              "    }\n",
              "\n",
              "    .colab-df-convert:hover {\n",
              "      background-color: #E2EBFA;\n",
              "      box-shadow: 0px 1px 2px rgba(60, 64, 67, 0.3), 0px 1px 3px 1px rgba(60, 64, 67, 0.15);\n",
              "      fill: #174EA6;\n",
              "    }\n",
              "\n",
              "    [theme=dark] .colab-df-convert {\n",
              "      background-color: #3B4455;\n",
              "      fill: #D2E3FC;\n",
              "    }\n",
              "\n",
              "    [theme=dark] .colab-df-convert:hover {\n",
              "      background-color: #434B5C;\n",
              "      box-shadow: 0px 1px 3px 1px rgba(0, 0, 0, 0.15);\n",
              "      filter: drop-shadow(0px 1px 2px rgba(0, 0, 0, 0.3));\n",
              "      fill: #FFFFFF;\n",
              "    }\n",
              "  </style>\n",
              "\n",
              "      <script>\n",
              "        const buttonEl =\n",
              "          document.querySelector('#df-535a7481-3fb0-45a4-8121-1b56d2fa71ab button.colab-df-convert');\n",
              "        buttonEl.style.display =\n",
              "          google.colab.kernel.accessAllowed ? 'block' : 'none';\n",
              "\n",
              "        async function convertToInteractive(key) {\n",
              "          const element = document.querySelector('#df-535a7481-3fb0-45a4-8121-1b56d2fa71ab');\n",
              "          const dataTable =\n",
              "            await google.colab.kernel.invokeFunction('convertToInteractive',\n",
              "                                                     [key], {});\n",
              "          if (!dataTable) return;\n",
              "\n",
              "          const docLinkHtml = 'Like what you see? Visit the ' +\n",
              "            '<a target=\"_blank\" href=https://colab.research.google.com/notebooks/data_table.ipynb>data table notebook</a>'\n",
              "            + ' to learn more about interactive tables.';\n",
              "          element.innerHTML = '';\n",
              "          dataTable['output_type'] = 'display_data';\n",
              "          await google.colab.output.renderOutput(dataTable, element);\n",
              "          const docLink = document.createElement('div');\n",
              "          docLink.innerHTML = docLinkHtml;\n",
              "          element.appendChild(docLink);\n",
              "        }\n",
              "      </script>\n",
              "    </div>\n",
              "  </div>\n",
              "  "
            ]
          },
          "metadata": {},
          "execution_count": 2
        }
      ],
      "source": [
        "import pandas as pd\n",
        "\n",
        "# Aqui está um exemplo. Vamos criar um dataframe de notas de letras em ordem decrescente. Também podemos definir um índice\n",
        "#valor e aqui vamos apenas fazer um julgamento humano de quão bom um aluno foi, como \"excelente\" ou \"bom\"\n",
        "df=pd.DataFrame(['A+', 'A', 'A-', 'B+', 'B', 'B-', 'C+', 'C', 'C-', 'D+', 'D'],\n",
        "                index=['excellent', 'excellent', 'excellent', 'good', 'good', 'good', \n",
        "                       'ok', 'ok', 'ok', 'poor', 'poor'],\n",
        "               columns=[\"Grades\"])\n",
        "df"
      ]
    },
    {
      "cell_type": "code",
      "source": [
        "# Agora, se verificarmos o tipo de dados desta coluna, veremos que é apenas um objeto, pois definimos valores de string\n",
        "df.dtypes"
      ],
      "metadata": {
        "colab": {
          "base_uri": "https://localhost:8080/"
        },
        "id": "7sOxrY_OzH5F",
        "outputId": "187f4f76-d85f-4d3e-9b07-2c9a6b90cc03"
      },
      "execution_count": 4,
      "outputs": [
        {
          "output_type": "execute_result",
          "data": {
            "text/plain": [
              "Grades    object\n",
              "dtype: object"
            ]
          },
          "metadata": {},
          "execution_count": 4
        }
      ]
    },
    {
      "cell_type": "code",
      "source": [
        "# Podemos, no entanto, dizer aos pandas que queremos alterar o tipo para categoria, usando a função astype()\n",
        "df[\"Grades\"].astype(\"category\").head()"
      ],
      "metadata": {
        "colab": {
          "base_uri": "https://localhost:8080/"
        },
        "id": "p7x1CZc6zSMb",
        "outputId": "5996816c-7461-414d-cae6-788b9976cdf2"
      },
      "execution_count": 5,
      "outputs": [
        {
          "output_type": "execute_result",
          "data": {
            "text/plain": [
              "excellent    A+\n",
              "excellent     A\n",
              "excellent    A-\n",
              "good         B+\n",
              "good          B\n",
              "Name: Grades, dtype: category\n",
              "Categories (11, object): ['A', 'A+', 'A-', 'B', ..., 'C+', 'C-', 'D', 'D+']"
            ]
          },
          "metadata": {},
          "execution_count": 5
        }
      ]
    },
    {
      "cell_type": "code",
      "source": [
        "# Vemos agora que existem onze categorias, e os pandas estão cientes de quais são essas categorias. Mais\n",
        "# interessante é que nossos dados não são apenas categóricos, mas também ordenados. Ou seja, um A- vem\n",
        "# depois de um B+, e B vem antes de um B+. Podemos dizer aos pandas que os dados são ordenados criando primeiro um novo\n",
        "# tipo de dados categórico com a lista das categorias (em ordem) e o sinalizador order=True\n",
        "my_categories=pd.CategoricalDtype(categories=['D', 'D+', 'C-', 'C', 'C+', 'B-', 'B', 'B+', 'A-', 'A', 'A+'], \n",
        "                           ordered=True)\n",
        "\n",
        "#agora vamos passar a lista para nossa função astype()\n",
        "grades=df[\"Grades\"].astype(my_categories)\n",
        "grades.head()"
      ],
      "metadata": {
        "colab": {
          "base_uri": "https://localhost:8080/"
        },
        "id": "5Z8Zm6CVzc1q",
        "outputId": "cee41dbe-0ac7-44da-b37f-4176ac7f4653"
      },
      "execution_count": 7,
      "outputs": [
        {
          "output_type": "execute_result",
          "data": {
            "text/plain": [
              "excellent    A+\n",
              "excellent     A\n",
              "excellent    A-\n",
              "good         B+\n",
              "good          B\n",
              "Name: Grades, dtype: category\n",
              "Categories (11, object): ['D' < 'D+' < 'C-' < 'C' ... 'B+' < 'A-' < 'A' < 'A+']"
            ]
          },
          "metadata": {},
          "execution_count": 7
        }
      ]
    },
    {
      "cell_type": "code",
      "source": [
        "# Agora vemos que os pandas não estão apenas cientes de que existem 11 categorias, mas também estão cientes da ordem de\n",
        "# essas categorias. Então, o que você pode fazer com isso? Bem, porque há um pedido, isso pode ajudar\n",
        "# comparações e mascaramento booleano. Por exemplo, se tivermos uma lista de nossas notas e as compararmos com um “C”\n",
        "# vemos que a comparação lexicográfica retorna resultados que não pretendíamos.\n",
        "df[df[\"Grades\"]>\"C\"]"
      ],
      "metadata": {
        "colab": {
          "base_uri": "https://localhost:8080/",
          "height": 175
        },
        "id": "HFYXR5rQ0sMb",
        "outputId": "adb95823-cd42-41d3-f892-3f6afa63da0e"
      },
      "execution_count": 8,
      "outputs": [
        {
          "output_type": "execute_result",
          "data": {
            "text/plain": [
              "     Grades\n",
              "ok       C+\n",
              "ok       C-\n",
              "poor     D+\n",
              "poor      D"
            ],
            "text/html": [
              "\n",
              "  <div id=\"df-4fd62319-65db-4073-9b2d-dca3edf92a57\">\n",
              "    <div class=\"colab-df-container\">\n",
              "      <div>\n",
              "<style scoped>\n",
              "    .dataframe tbody tr th:only-of-type {\n",
              "        vertical-align: middle;\n",
              "    }\n",
              "\n",
              "    .dataframe tbody tr th {\n",
              "        vertical-align: top;\n",
              "    }\n",
              "\n",
              "    .dataframe thead th {\n",
              "        text-align: right;\n",
              "    }\n",
              "</style>\n",
              "<table border=\"1\" class=\"dataframe\">\n",
              "  <thead>\n",
              "    <tr style=\"text-align: right;\">\n",
              "      <th></th>\n",
              "      <th>Grades</th>\n",
              "    </tr>\n",
              "  </thead>\n",
              "  <tbody>\n",
              "    <tr>\n",
              "      <th>ok</th>\n",
              "      <td>C+</td>\n",
              "    </tr>\n",
              "    <tr>\n",
              "      <th>ok</th>\n",
              "      <td>C-</td>\n",
              "    </tr>\n",
              "    <tr>\n",
              "      <th>poor</th>\n",
              "      <td>D+</td>\n",
              "    </tr>\n",
              "    <tr>\n",
              "      <th>poor</th>\n",
              "      <td>D</td>\n",
              "    </tr>\n",
              "  </tbody>\n",
              "</table>\n",
              "</div>\n",
              "      <button class=\"colab-df-convert\" onclick=\"convertToInteractive('df-4fd62319-65db-4073-9b2d-dca3edf92a57')\"\n",
              "              title=\"Convert this dataframe to an interactive table.\"\n",
              "              style=\"display:none;\">\n",
              "        \n",
              "  <svg xmlns=\"http://www.w3.org/2000/svg\" height=\"24px\"viewBox=\"0 0 24 24\"\n",
              "       width=\"24px\">\n",
              "    <path d=\"M0 0h24v24H0V0z\" fill=\"none\"/>\n",
              "    <path d=\"M18.56 5.44l.94 2.06.94-2.06 2.06-.94-2.06-.94-.94-2.06-.94 2.06-2.06.94zm-11 1L8.5 8.5l.94-2.06 2.06-.94-2.06-.94L8.5 2.5l-.94 2.06-2.06.94zm10 10l.94 2.06.94-2.06 2.06-.94-2.06-.94-.94-2.06-.94 2.06-2.06.94z\"/><path d=\"M17.41 7.96l-1.37-1.37c-.4-.4-.92-.59-1.43-.59-.52 0-1.04.2-1.43.59L10.3 9.45l-7.72 7.72c-.78.78-.78 2.05 0 2.83L4 21.41c.39.39.9.59 1.41.59.51 0 1.02-.2 1.41-.59l7.78-7.78 2.81-2.81c.8-.78.8-2.07 0-2.86zM5.41 20L4 18.59l7.72-7.72 1.47 1.35L5.41 20z\"/>\n",
              "  </svg>\n",
              "      </button>\n",
              "      \n",
              "  <style>\n",
              "    .colab-df-container {\n",
              "      display:flex;\n",
              "      flex-wrap:wrap;\n",
              "      gap: 12px;\n",
              "    }\n",
              "\n",
              "    .colab-df-convert {\n",
              "      background-color: #E8F0FE;\n",
              "      border: none;\n",
              "      border-radius: 50%;\n",
              "      cursor: pointer;\n",
              "      display: none;\n",
              "      fill: #1967D2;\n",
              "      height: 32px;\n",
              "      padding: 0 0 0 0;\n",
              "      width: 32px;\n",
              "    }\n",
              "\n",
              "    .colab-df-convert:hover {\n",
              "      background-color: #E2EBFA;\n",
              "      box-shadow: 0px 1px 2px rgba(60, 64, 67, 0.3), 0px 1px 3px 1px rgba(60, 64, 67, 0.15);\n",
              "      fill: #174EA6;\n",
              "    }\n",
              "\n",
              "    [theme=dark] .colab-df-convert {\n",
              "      background-color: #3B4455;\n",
              "      fill: #D2E3FC;\n",
              "    }\n",
              "\n",
              "    [theme=dark] .colab-df-convert:hover {\n",
              "      background-color: #434B5C;\n",
              "      box-shadow: 0px 1px 3px 1px rgba(0, 0, 0, 0.15);\n",
              "      filter: drop-shadow(0px 1px 2px rgba(0, 0, 0, 0.3));\n",
              "      fill: #FFFFFF;\n",
              "    }\n",
              "  </style>\n",
              "\n",
              "      <script>\n",
              "        const buttonEl =\n",
              "          document.querySelector('#df-4fd62319-65db-4073-9b2d-dca3edf92a57 button.colab-df-convert');\n",
              "        buttonEl.style.display =\n",
              "          google.colab.kernel.accessAllowed ? 'block' : 'none';\n",
              "\n",
              "        async function convertToInteractive(key) {\n",
              "          const element = document.querySelector('#df-4fd62319-65db-4073-9b2d-dca3edf92a57');\n",
              "          const dataTable =\n",
              "            await google.colab.kernel.invokeFunction('convertToInteractive',\n",
              "                                                     [key], {});\n",
              "          if (!dataTable) return;\n",
              "\n",
              "          const docLinkHtml = 'Like what you see? Visit the ' +\n",
              "            '<a target=\"_blank\" href=https://colab.research.google.com/notebooks/data_table.ipynb>data table notebook</a>'\n",
              "            + ' to learn more about interactive tables.';\n",
              "          element.innerHTML = '';\n",
              "          dataTable['output_type'] = 'display_data';\n",
              "          await google.colab.output.renderOutput(dataTable, element);\n",
              "          const docLink = document.createElement('div');\n",
              "          docLink.innerHTML = docLinkHtml;\n",
              "          element.appendChild(docLink);\n",
              "        }\n",
              "      </script>\n",
              "    </div>\n",
              "  </div>\n",
              "  "
            ]
          },
          "metadata": {},
          "execution_count": 8
        }
      ]
    },
    {
      "cell_type": "code",
      "source": [
        "# Então um C+ é melhor que um C, mas um C- e um D certamente não são. No entanto, se transmitirmos pelo dataframe\n",
        "# que tem o tipo definido como um categórico ordenado pela lista que criamos\n",
        "grades[grades>\"C\"]"
      ],
      "metadata": {
        "colab": {
          "base_uri": "https://localhost:8080/"
        },
        "id": "GF5CrLQz0vjb",
        "outputId": "c82334e9-1de4-48a7-a477-1f92fea50752"
      },
      "execution_count": 9,
      "outputs": [
        {
          "output_type": "execute_result",
          "data": {
            "text/plain": [
              "excellent    A+\n",
              "excellent     A\n",
              "excellent    A-\n",
              "good         B+\n",
              "good          B\n",
              "good         B-\n",
              "ok           C+\n",
              "Name: Grades, dtype: category\n",
              "Categories (11, object): ['D' < 'D+' < 'C-' < 'C' ... 'B+' < 'A-' < 'A' < 'A+']"
            ]
          },
          "metadata": {},
          "execution_count": 9
        }
      ]
    },
    {
      "cell_type": "code",
      "source": [
        "# Vemos que o operador funciona como esperávamos. Podemos então usar um certo conjunto de operadores matemáticos,\n",
        "# como mínimo, máximo, etc., nos dados ordinais."
      ],
      "metadata": {
        "id": "t_heGqtW1DFa"
      },
      "execution_count": 10,
      "outputs": []
    },
    {
      "cell_type": "code",
      "source": [
        "# Às vezes é útil representar valores categóricos como cada um sendo uma coluna com um verdadeiro ou um falso para\n",
        "# se a categoria se aplica. Isso é especialmente comum na extração de recursos, que é um tópico nos dados\n",
        "#curso de mineração. Variáveis ​​com um valor booleano são normalmente chamadas de variáveis ​​fictícias, e pandas tem um\n",
        "# na função chamada get_dummies que irá converter os valores de uma única coluna em várias colunas de\n",
        "# zeros e uns indicando a presença da variável dummy. Raramente uso, mas quando uso é muito\n",
        "# acessível."
      ],
      "metadata": {
        "id": "ynxxkZhs2rpb"
      },
      "execution_count": 12,
      "outputs": []
    },
    {
      "cell_type": "code",
      "source": [
        "\n",
        "# Há mais uma operação baseada em escala comum sobre a qual gostaria de falar, e é a conversão de uma escala de\n",
        "# algo que está na escala de intervalo ou razão, como uma nota numérica, em uma que é categórica. Agora,\n",
        "# isso pode parecer um pouco contra intuitivo para você, já que você está perdendo informações sobre o valor. Mas é\n",
        "# comumente feito em alguns lugares. Por exemplo, se você estiver visualizando as frequências de categorias,\n",
        "# esta pode ser uma abordagem extremamente útil, e os histogramas são usados ​​regularmente com intervalo ou proporção convertidos\n",
        "# dados. Além disso, se você estiver usando uma abordagem de classificação de aprendizado de máquina em dados, precisará usar\n",
        "# dados categóricos, portanto, reduzir a dimensionalidade pode ser útil apenas para aplicar uma determinada técnica. Pandas tem um\n",
        "# função chamada cut que recebe como argumento alguma estrutura tipo array como uma coluna de um dataframe ou um\n",
        "# Series. Também são necessários vários compartimentos para serem usados, e todos os compartimentos são mantidos com espaçamento igual.\n",
        " \n",
        "# Vamos voltar aos nossos dados do censo para dar um exemplo. Vimos que poderíamos agrupar por estado e depois agregar para obter um\n",
        "# lista do tamanho médio do condado por estado. Se aplicarmos mais corte a isso com, digamos, dez caixas, podemos ver\n",
        "# os estados listados como categóricos usando o tamanho médio do condado.\n",
        "\n",
        "# vamos trazer numpy\n",
        "import numpy as np\n",
        "\n",
        "# nosso dataset \n",
        "df=pd.read_csv(\"/content/census.csv\")\n",
        "\n",
        "# e pegar apenas o SUMLEV == 50\n",
        "df=df[df['SUMLEV']==50]\n",
        "\n",
        "# e vamos olhar para um grupo\n",
        "df=df.set_index('STNAME').groupby(level=0)['CENSUS2010POP'].agg(np.average)\n",
        "\n",
        "df.head()"
      ],
      "metadata": {
        "colab": {
          "base_uri": "https://localhost:8080/"
        },
        "id": "VLKG_z9v2t4L",
        "outputId": "18388bb3-90d8-4310-bc03-4259d0164932"
      },
      "execution_count": 14,
      "outputs": [
        {
          "output_type": "execute_result",
          "data": {
            "text/plain": [
              "STNAME\n",
              "Alabama        71339.343284\n",
              "Alaska         24490.724138\n",
              "Arizona       426134.466667\n",
              "Arkansas       38878.906667\n",
              "California    642309.586207\n",
              "Name: CENSUS2010POP, dtype: float64"
            ]
          },
          "metadata": {},
          "execution_count": 14
        }
      ]
    },
    {
      "cell_type": "code",
      "source": [
        "# Agora, se quisermos apenas fazer \"bins\" de cada um deles, podemos usar cut()\n",
        "pd.cut(df,10)"
      ],
      "metadata": {
        "colab": {
          "base_uri": "https://localhost:8080/"
        },
        "id": "C3Bw35mw4FXE",
        "outputId": "e3ceae83-76a4-45c9-dbab-f0111b62c4e9"
      },
      "execution_count": 15,
      "outputs": [
        {
          "output_type": "execute_result",
          "data": {
            "text/plain": [
              "STNAME\n",
              "Alabama                   (11706.087, 75333.413]\n",
              "Alaska                    (11706.087, 75333.413]\n",
              "Arizona                 (390320.176, 453317.529]\n",
              "Arkansas                  (11706.087, 75333.413]\n",
              "California              (579312.234, 642309.586]\n",
              "Colorado                 (75333.413, 138330.766]\n",
              "Connecticut             (390320.176, 453317.529]\n",
              "Delaware                (264325.471, 327322.823]\n",
              "District of Columbia    (579312.234, 642309.586]\n",
              "Florida                 (264325.471, 327322.823]\n",
              "Georgia                   (11706.087, 75333.413]\n",
              "Hawaii                  (264325.471, 327322.823]\n",
              "Idaho                     (11706.087, 75333.413]\n",
              "Illinois                 (75333.413, 138330.766]\n",
              "Indiana                   (11706.087, 75333.413]\n",
              "Iowa                      (11706.087, 75333.413]\n",
              "Kansas                    (11706.087, 75333.413]\n",
              "Kentucky                  (11706.087, 75333.413]\n",
              "Louisiana                 (11706.087, 75333.413]\n",
              "Maine                    (75333.413, 138330.766]\n",
              "Maryland                (201328.118, 264325.471]\n",
              "Massachusetts           (453317.529, 516314.881]\n",
              "Michigan                 (75333.413, 138330.766]\n",
              "Minnesota                 (11706.087, 75333.413]\n",
              "Mississippi               (11706.087, 75333.413]\n",
              "Missouri                  (11706.087, 75333.413]\n",
              "Montana                   (11706.087, 75333.413]\n",
              "Nebraska                  (11706.087, 75333.413]\n",
              "Nevada                  (138330.766, 201328.118]\n",
              "New Hampshire            (75333.413, 138330.766]\n",
              "New Jersey              (390320.176, 453317.529]\n",
              "New Mexico                (11706.087, 75333.413]\n",
              "New York                (264325.471, 327322.823]\n",
              "North Carolina           (75333.413, 138330.766]\n",
              "North Dakota              (11706.087, 75333.413]\n",
              "Ohio                     (75333.413, 138330.766]\n",
              "Oklahoma                  (11706.087, 75333.413]\n",
              "Oregon                   (75333.413, 138330.766]\n",
              "Pennsylvania            (138330.766, 201328.118]\n",
              "Rhode Island            (201328.118, 264325.471]\n",
              "South Carolina           (75333.413, 138330.766]\n",
              "South Dakota              (11706.087, 75333.413]\n",
              "Tennessee                 (11706.087, 75333.413]\n",
              "Texas                    (75333.413, 138330.766]\n",
              "Utah                     (75333.413, 138330.766]\n",
              "Vermont                   (11706.087, 75333.413]\n",
              "Virginia                  (11706.087, 75333.413]\n",
              "Washington              (138330.766, 201328.118]\n",
              "West Virginia             (11706.087, 75333.413]\n",
              "Wisconsin                (75333.413, 138330.766]\n",
              "Wyoming                   (11706.087, 75333.413]\n",
              "Name: CENSUS2010POP, dtype: category\n",
              "Categories (10, interval[float64, right]): [(11706.087, 75333.413] < (75333.413, 138330.766] <\n",
              "                                            (138330.766, 201328.118] < (201328.118, 264325.471] < ... <\n",
              "                                            (390320.176, 453317.529] < (453317.529, 516314.881] <\n",
              "                                            (516314.881, 579312.234] < (579312.234, 642309.586]]"
            ]
          },
          "metadata": {},
          "execution_count": 15
        }
      ]
    },
    {
      "cell_type": "code",
      "source": [
        "# Aqui vemos que estados como o alabama e o alasca se enquadram na mesma categoria, enquanto a Califórnia e o\n",
        "# distrito de columbia se enquadra em uma categoria muito diferente.\n",
        "\n",
        "# Agora, cortar é apenas uma maneira de construir categorias a partir de seus dados, e existem muitos outros métodos. Por\n",
        "# instância, cut fornece dados de intervalo, onde o espaçamento entre cada categoria é de tamanho igual. Mas às vezes\n",
        "# você deseja formar categorias com base na frequência - você deseja que o número de itens em cada caixa seja o\n",
        "# mesmo, em vez do espaçamento entre os compartimentos. Isso realmente depende de qual é a forma de seus dados e quais\n",
        "# você está planejando fazer com isso."
      ],
      "metadata": {
        "id": "fr6rjZgt4HRb"
      },
      "execution_count": null,
      "outputs": []
    }
  ]
}