{
  "nbformat": 4,
  "nbformat_minor": 0,
  "metadata": {
    "colab": {
      "provenance": [],
      "authorship_tag": "ABX9TyMP3rbwVxszWIrZilb2FFYw"
    },
    "kernelspec": {
      "name": "python3",
      "display_name": "Python 3"
    },
    "language_info": {
      "name": "python"
    }
  },
  "cells": [
    {
      "cell_type": "markdown",
      "source": [
        "## Descrição\n",
        "Nesta tarefa você deve ler um arquivo de regiões metropolitanas e equipes esportivas associadas de assets/wikipedia_data.html e responder algumas perguntas sobre cada região metropolitana. Cada uma dessas regiões pode ter um ou mais times do \"Big 4\": NFL (futebol, em assets/nfl.csv), MLB (beisebol, em assets/mlb.csv), NBA (basquete, em assets/nba. csv ou NHL (hóquei, em assets/nhl.csv) Lembre-se de que todas as perguntas são da perspectiva da região metropolitana e que este arquivo é a \"fonte de autoridade\" para a localização de um determinado time esportivo. Assim, as equipes que são comumente conhecidas por uma área diferente (por exemplo, \"Oakland Raiders\") precisam ser mapeadas para a região metropolitana fornecida (por exemplo, área da baía de São Francisco). Isso exigirá alguma compreensão de dados humanos fora dos dados que você recebeu (por exemplo, você terá que codificar manualmente alguns nomes e pode precisar pesquisar no Google para descobrir onde estão as equipes)!\n",
        "\n",
        "Para cada esporte eu gostaria que você respondesse a pergunta: qual é a correlação da relação vitórias/derrotas com a população da cidade em que está inserido? A proporção de vitórias/derrotas refere-se ao número de vitórias sobre o número de vitórias mais o número de derrotas. Lembre-se que para calcular a correlação com pearsonr, você enviará duas listas ordenadas de valores, as populações do arquivo wikipedia_data.html e a proporção de vitórias/derrotas de um determinado esporte na mesma ordem. Faça a média das taxas de vitórias/derrotas para as cidades que têm várias equipes de um único esporte. Cada esporte vale uma quantia igual nesta tarefa (20%*4=80%) da nota para esta tarefa. Você só deve usar dados do ano de 2018 para sua análise - isso é importante!\n",
        "## Notas\n",
        "Não inclua dados sobre o MLS ou CFL em nenhum trabalho que você está fazendo, estamos interessados ​​apenas no Big 4 nesta tarefa.\n",
        "Eu sugiro que você primeiro aborde as quatro questões de correlação em ordem, pois todas são semelhantes e valem a maioria das notas para esta tarefa. Isso é por design!\n",
        "É um jogo justo conversar com seus pares sobre estratégia de alto nível, bem como a relação entre áreas metropolitanas e equipes esportivas. No entanto, não poste aspectos de resolução de código da tarefa (incluindo dicionários mapeando áreas para equipes ou regexes que limparão nomes).\n",
        "Pode haver mais equipes do que o teste de declarações assertivas, lembre-se de recolher várias equipes em uma cidade em um único valor!"
      ],
      "metadata": {
        "id": "TFmncTvOiWDI"
      }
    },
    {
      "cell_type": "markdown",
      "source": [
        "\n",
        "# Questão\n",
        "Para esta questão, calcule a correlação da relação ganho/perda com a população da cidade em que está para o NHL usando dados de 2018."
      ],
      "metadata": {
        "id": "QQ2kZ4vzi3Ky"
      }
    },
    {
      "cell_type": "code",
      "source": [
        "#filtrar os dados para obter as informações apenas de 2018\n",
        "#descartar colunas desnecessarias de nhl_df\n",
        "#limpar os nomes do nhl_df a maioria dos nomes tem um * no final deles \n",
        "#limpar os nomes de cities alguns nomes tem [note] no final deles\n",
        "#no nhl os nomes dos times tão misturados com o nome da cidade, preciso separar eles e colocar uma nova coluna somente com o nome dos times\n",
        "#remover as linhas de divisao \n",
        "#existem 4 times com a mesma região vamos agrupar eles e obter o numro de vitorias e derrotas \n",
        "#criar a coluna proporção de vitorias \n",
        "#mudar o tipo de dado de win e loss para float \n",
        "#fazr o population_by_region e win_loss_by_region\n"
      ],
      "metadata": {
        "id": "2_4UwQbRJv0z"
      },
      "execution_count": 50,
      "outputs": []
    },
    {
      "cell_type": "code",
      "execution_count": 17,
      "metadata": {
        "colab": {
          "base_uri": "https://localhost:8080/"
        },
        "id": "CQy75IDWhuz2",
        "outputId": "277058bc-ab8f-4ae1-bd4d-e4b154ba68a5"
      },
      "outputs": [
        {
          "output_type": "stream",
          "name": "stderr",
          "text": [
            "/usr/local/lib/python3.7/dist-packages/pandas/core/frame.py:4913: SettingWithCopyWarning: \n",
            "A value is trying to be set on a copy of a slice from a DataFrame\n",
            "\n",
            "See the caveats in the documentation: https://pandas.pydata.org/pandas-docs/stable/user_guide/indexing.html#returning-a-view-versus-a-copy\n",
            "  errors=errors,\n",
            "/usr/local/lib/python3.7/dist-packages/ipykernel_launcher.py:28: SettingWithCopyWarning: \n",
            "A value is trying to be set on a copy of a slice from a DataFrame.\n",
            "Try using .loc[row_indexer,col_indexer] = value instead\n",
            "\n",
            "See the caveats in the documentation: https://pandas.pydata.org/pandas-docs/stable/user_guide/indexing.html#returning-a-view-versus-a-copy\n",
            "/usr/local/lib/python3.7/dist-packages/ipykernel_launcher.py:35: SettingWithCopyWarning: \n",
            "A value is trying to be set on a copy of a slice from a DataFrame.\n",
            "Try using .loc[row_indexer,col_indexer] = value instead\n",
            "\n",
            "See the caveats in the documentation: https://pandas.pydata.org/pandas-docs/stable/user_guide/indexing.html#returning-a-view-versus-a-copy\n",
            "/usr/local/lib/python3.7/dist-packages/ipykernel_launcher.py:38: SettingWithCopyWarning: \n",
            "A value is trying to be set on a copy of a slice from a DataFrame.\n",
            "Try using .loc[row_indexer,col_indexer] = value instead\n",
            "\n",
            "See the caveats in the documentation: https://pandas.pydata.org/pandas-docs/stable/user_guide/indexing.html#returning-a-view-versus-a-copy\n"
          ]
        },
        {
          "output_type": "execute_result",
          "data": {
            "text/plain": [
              "0.012308996455744264"
            ]
          },
          "metadata": {},
          "execution_count": 17
        }
      ],
      "source": [
        "import pandas as pd\n",
        "import numpy as np\n",
        "import scipy.stats as stats\n",
        "import re\n",
        "\n",
        "nhl_df=pd.read_csv(\"/content/nhl.csv\")\n",
        "cities=pd.read_html(\"/content/wikipedia_data.html\")[1]\n",
        "cities=cities.iloc[:-1,[0,3,5,6,7,8]]\n",
        "\n",
        "############### Tratando o cities data Frame ################\n",
        "\n",
        "#limpar os nomes de cities alguns nomes tem [note] no final deles\n",
        "def team_name(x):\n",
        "  return re.sub('\\[note \\d+\\]',repl = '', string = x)\n",
        "cities['NHL'] = cities['NHL'].apply(lambda x: team_name(x))\n",
        "\n",
        "#criando um novo dataframe com as variaveis importantes de cities \n",
        "new_df= cities[['Metropolitan area', 'NHL','Population (2016 est.)[8]']]\n",
        "#setando o NHL como index para poder aplicar o drop e remover as cidades que não tem times \n",
        "new_df.set_index('NHL', inplace = True)\n",
        "new_df.drop(['—', ''], axis=0, inplace = True)\n",
        "\n",
        "###########tratando o nhl_df###############################\n",
        "\n",
        "nhl_df =nhl_df[nhl_df['year'] == 2018]#pegando dados de 2018\n",
        "nhl_df.drop([0, 9, 18, 26], axis=0, inplace = True)#remover as linhas de divisao\n",
        "#limpar os nomes do nhl_df a maioria dos nomes tem um * no final deles \n",
        "nhl_df['team'] = nhl_df['team'].apply(lambda x: x[:-1].strip() if x.endswith('*') else x.strip())\n",
        "\n",
        "def pegando_regiao(time):\n",
        "  for x in list(new_df.index.values):\n",
        "    if time in x:\n",
        "      return new_df.at[x, 'Metropolitan area']\n",
        "#este primeiro aplly ira fazer uma coluna que ira conter o nome dos times \n",
        "nhl_df['regiao'] = nhl_df['team'].apply(lambda x: x.split(' ')[-1])\n",
        "#este segundo apply ira comparar a nova coluna que contem o nome dos times com a coluna NHL do new_DF que tbm possui o nome dos times\n",
        "#sempre que der match ele ira retornar o nome da 'Metropolitan area' substituindo os nomes do time da nova coluna criada anteriormente \n",
        "nhl_df['regiao'] = nhl_df['regiao'].apply(lambda x: pegando_regiao(x))\n",
        "\n",
        "#fazendo um groupby por região para somar os valores dos times de uma mesma região \n",
        "\n",
        "agrup = []\n",
        "for chave, x in nhl_df.groupby('regiao'):\n",
        "  wins = np.sum(pd.to_numeric(x['W']))\n",
        "  loses = np.sum(pd.to_numeric(x['L'])) #usando pd.to_numeric para converter string para float\n",
        "  prop = wins / (wins+loses)\n",
        "  #adicionando o resultado de cada iteração no dicionario e colocando na lista\n",
        "  x = {'regiao':chave,'proporcao':prop}\n",
        "  agrup.append(x)\n",
        "\n",
        "\n",
        "\n",
        "#criando um novo dataframe para armazenar o agrup que contem a proporção de vitorias por região\n",
        "new_df2 = pd.DataFrame(agrup)\n",
        "new_df2.set_index('regiao', inplace = True) \n",
        "\n",
        "#criando um dataframe para armazenar a população de cada região \n",
        "popula = cities[['Metropolitan area', 'Population (2016 est.)[8]']]\n",
        "popula = popula.set_index('Metropolitan area')\n",
        "\n",
        "#juntando os dois dataframes\n",
        "df = pd.merge (new_df2,popula, how='inner',left_index=True,right_index = True)\n",
        "df['Population (2016 est.)[8]'] = pd.to_numeric(df['Population (2016 est.)[8]'])\n",
        "\n",
        "def nhl_correlation(): \n",
        "    \n",
        "        \n",
        "    population_by_region = list(df['Population (2016 est.)[8]']) # passagem na população da área metropolitana das cidades\n",
        "    win_loss_by_region = list(df['proporcao']) # passagem na proporção de vitórias/derrotas de nhl_df na mesma ordem das cidades[\"Metropolitan area\"]\n",
        "    \n",
        "    return stats.pearsonr(population_by_region, win_loss_by_region)[0]\n",
        "   \n",
        "nhl_correlation()"
      ]
    },
    {
      "cell_type": "code",
      "source": [],
      "metadata": {
        "id": "Up-eqMfGF3Q-"
      },
      "execution_count": null,
      "outputs": []
    }
  ]
}