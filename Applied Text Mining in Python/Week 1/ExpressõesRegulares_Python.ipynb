{
  "nbformat": 4,
  "nbformat_minor": 0,
  "metadata": {
    "colab": {
      "provenance": [],
      "authorship_tag": "ABX9TyMSWWO+a2Zp6r5ENPFSG89w"
    },
    "kernelspec": {
      "name": "python3",
      "display_name": "Python 3"
    },
    "language_info": {
      "name": "python"
    }
  },
  "cells": [
    {
      "cell_type": "markdown",
      "source": [
        "#1. Sintaxe Básica\n",
        "re.search(pattern, string): Retorna um objeto de correspondência se encontrar algum padrão dentro da string.\n",
        "\n",
        "re.match(pattern, string): Verifica se o padrão ocorre no início da string.\n",
        "\n",
        "re.findall(pattern, string): Retorna uma lista contendo todas as correspondências encontradas.\n",
        "\n",
        "re.finditer(pattern, string): Retorna um iterador sobre todas as correspondências encontradas.\n",
        "\n",
        "#2. Principais Parâmetros\n",
        "\n",
        "##2.1 Metacaracteres\n",
        "\n",
        ".: Corresponde a qualquer caractere, exceto uma nova linha.\n",
        "\n",
        "^: Corresponde ao início de uma string.\n",
        "\n",
        "$: Corresponde ao final de uma string.\n",
        "\n",
        "\\b: Corresponde a uma borda de palavra.\n",
        "\n",
        "\\d: Corresponde a um dígito decimal [0-9].\n",
        "\n",
        "\\D: Corresponde a qualquer caractere que não seja um dígito.\n",
        "\n",
        "\\s: Corresponde a um caractere de espaço em branco (espaço, tabulação, nova linha).\n",
        "\n",
        "\\S: Corresponde a qualquer caractere que não seja um espaço em branco.\n",
        "\n",
        "\\w: Corresponde a um caractere alfanumérico [a-zA-Z0-9_].\n",
        "\n",
        "\\W: Corresponde a qualquer caractere que não seja alfanumérico.\n",
        "\n",
        "##2.2 Quantificadores\n",
        "*: Corresponde a zero ou mais ocorrências do caractere anterior.\n",
        "\n",
        "+: Corresponde a uma ou mais ocorrências do caractere anterior.\n",
        "\n",
        "?: Corresponde a zero ou uma ocorrência do caractere anterior.\n",
        "\n",
        "{n}: Corresponde a exatamente n ocorrências do caractere anterior.\n",
        "\n",
        "{n,}: Corresponde a pelo menos n ocorrências do caractere anterior.\n",
        "\n",
        "{n,m}: Corresponde a pelo menos n e no máximo m ocorrências do caractere anterior.\n",
        "\n",
        "##2.3 Grupos e Captura\n",
        "(...): Define um grupo de caracteres.\n",
        "\n",
        "(?:...): Define um grupo de caracteres sem captura.\n",
        "\n",
        "(?P< name >...): Define um grupo com um nome específico para captura."
      ],
      "metadata": {
        "id": "h9nxIG-zCRyq"
      }
    },
    {
      "cell_type": "markdown",
      "source": [
        "#3 Exemplos"
      ],
      "metadata": {
        "id": "7gBm_Rz0C72K"
      }
    },
    {
      "cell_type": "code",
      "execution_count": 2,
      "metadata": {
        "colab": {
          "base_uri": "https://localhost:8080/"
        },
        "id": "hTSNtajs9055",
        "outputId": "a21a033c-e3d9-4a86-8054-1f3ee1b521b7"
      },
      "outputs": [
        {
          "output_type": "stream",
          "name": "stdout",
          "text": [
            "Número de telefone encontrado: 1234-5678\n"
          ]
        }
      ],
      "source": [
        "import re\n",
        "\n",
        "#Verifica se a string contém um número de telefone no formato XXXX-XXXX\n",
        "pattern = r'\\d{4}-\\d{4}'\n",
        "string = 'Meu número é 1234-5678.'\n",
        "match = re.search(pattern, string)\n",
        "if match:\n",
        "    print('Número de telefone encontrado:', match.group())\n",
        "else:\n",
        "    print('Número de telefone não encontrado.')\n"
      ]
    },
    {
      "cell_type": "code",
      "source": [
        "#Extraíndo todos os números de uma string\n",
        "pattern = r'\\d+'\n",
        "string = 'Tenho 10 maçãs e 20 laranjas.'\n",
        "numbers = re.findall(pattern, string)\n",
        "print('Números encontrados:', numbers)\n"
      ],
      "metadata": {
        "colab": {
          "base_uri": "https://localhost:8080/"
        },
        "id": "3sxCOFkvDIbR",
        "outputId": "2fa45533-02a0-4de2-fab0-71e7f016cac7"
      },
      "execution_count": 3,
      "outputs": [
        {
          "output_type": "stream",
          "name": "stdout",
          "text": [
            "Números encontrados: ['10', '20']\n"
          ]
        }
      ]
    },
    {
      "cell_type": "code",
      "source": [
        "#Substituindo todas as vogais por '*'\n",
        "pattern = r'[aeiou]'\n",
        "string = 'Esta é uma frase de exemplo.'\n",
        "new_string = re.sub(pattern, '*', string)\n",
        "print('Nova frase:', new_string)\n",
        "\n"
      ],
      "metadata": {
        "colab": {
          "base_uri": "https://localhost:8080/"
        },
        "id": "ZobG8ogwDMEp",
        "outputId": "52efa42b-8440-4fa1-ecf7-b0f6ff4c5a72"
      },
      "execution_count": 6,
      "outputs": [
        {
          "output_type": "stream",
          "name": "stdout",
          "text": [
            "Nova frase: Est* é *m* fr*s* d* *x*mpl*.\n"
          ]
        }
      ]
    },
    {
      "cell_type": "code",
      "source": [
        "import datetime\n",
        "\n",
        "# Criando um objeto de data atual\n",
        "data_atual = datetime.datetime.now()\n",
        "print(\"Data atual:\", data_atual)\n",
        "\n",
        "# Formatando a data como uma string\n",
        "data_formatada = data_atual.strftime(\"%Y-%m-%d %H:%M:%S\")\n",
        "print(\"Data formatada:\", data_formatada)\n"
      ],
      "metadata": {
        "colab": {
          "base_uri": "https://localhost:8080/"
        },
        "id": "jepmUAlCDW74",
        "outputId": "abb2db30-372e-467d-be99-a817c42709f0"
      },
      "execution_count": 9,
      "outputs": [
        {
          "output_type": "stream",
          "name": "stdout",
          "text": [
            "Data atual: 2024-02-19 15:50:33.449810\n",
            "Data formatada: 2024-02-19 15:50:33\n"
          ]
        }
      ]
    },
    {
      "cell_type": "code",
      "source": [],
      "metadata": {
        "id": "eHVJShySEcEa"
      },
      "execution_count": null,
      "outputs": []
    },
    {
      "cell_type": "code",
      "source": [
        "# Suponha que temos uma string que contém uma data\n",
        "texto = \"Esta é uma string com uma data no formato 01/12/2022.\"\n",
        "\n",
        "# Definindo o padrão da expressão regular para encontrar datas no formato DD/MM/AAAA\n",
        "padrao_data = r'\\b\\d{2}/\\d{2}/\\d{4}\\b'\n",
        "\n",
        "# Procurando a data na string\n",
        "match_data = re.search(padrao_data, texto)\n",
        "\n",
        "# Se uma data for encontrada, vamos convertê-la para um objeto datetime\n",
        "if match_data:\n",
        "    data_string = match_data.group()\n",
        "    data = datetime.datetime.strptime(data_string, \"%d/%m/%Y\")\n",
        "    print('Data encontrada:', data)\n",
        "else:\n",
        "    print('Data não encontrada.')\n",
        "# Suponha que temos uma string que contém uma data\n",
        "texto = \"Esta é uma string com uma data no formato 01/12/2022.\"\n",
        "\n",
        "# Definindo o padrão da expressão regular para encontrar datas no formato DD/MM/AAAA\n",
        "padrao_data = r'\\b\\d{2}/\\d{2}/\\d{4}\\b'\n",
        "\n",
        "# Procurando a data na string\n",
        "match_data = re.search(padrao_data, texto)\n",
        "\n",
        "# Se uma data for encontrada, vamos convertê-la para um objeto datetime\n",
        "if match_data:\n",
        "    data_string = match_data.group()\n",
        "    data = datetime.datetime.strptime(data_string, \"%d/%m/%Y\")\n",
        "    print('Data encontrada:', data)\n",
        "else:\n",
        "    print('Data não encontrada.')\n"
      ],
      "metadata": {
        "colab": {
          "base_uri": "https://localhost:8080/"
        },
        "id": "y1cZitfrD_85",
        "outputId": "64ca0521-1cf4-4a34-da75-346ad31a0ecf"
      },
      "execution_count": 11,
      "outputs": [
        {
          "output_type": "stream",
          "name": "stdout",
          "text": [
            "Data encontrada: 2022-12-01 00:00:00\n"
          ]
        }
      ]
    }
  ]
}