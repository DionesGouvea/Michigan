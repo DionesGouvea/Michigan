{
  "nbformat": 4,
  "nbformat_minor": 0,
  "metadata": {
    "colab": {
      "provenance": [],
      "authorship_tag": "ABX9TyORDgCbY/lj8cEnXYr0pR+D"
    },
    "kernelspec": {
      "name": "python3",
      "display_name": "Python 3"
    },
    "language_info": {
      "name": "python"
    }
  },
  "cells": [
    {
      "cell_type": "code",
      "execution_count": 1,
      "metadata": {
        "id": "pexrqFLvCSQS"
      },
      "outputs": [],
      "source": [
        "#texto usado para o exemplo\n",
        "texto = \"Embora seja mais comum no público da terceira idade, a artrose atinge também atletas de alto desempenho e esportistas, \\\n",
        "devido ao forte impacto nas principais articulações\""
      ]
    },
    {
      "cell_type": "code",
      "source": [
        "#lendo o numero de caracteries\n",
        "len(texto)"
      ],
      "metadata": {
        "colab": {
          "base_uri": "https://localhost:8080/"
        },
        "id": "jwtH2HW0DVj8",
        "outputId": "bcdf68d1-1da8-4d04-b734-da133093cb69"
      },
      "execution_count": 4,
      "outputs": [
        {
          "output_type": "execute_result",
          "data": {
            "text/plain": [
              "170"
            ]
          },
          "metadata": {},
          "execution_count": 4
        }
      ]
    },
    {
      "cell_type": "code",
      "source": [
        "#dividindo o numero de tokens(palavras) e lendo a quantidade\n",
        "n_tokens = texto.split(\" \")\n",
        "len(n_tokens)"
      ],
      "metadata": {
        "colab": {
          "base_uri": "https://localhost:8080/"
        },
        "id": "oR-T0gYgDeRl",
        "outputId": "c53545fb-597f-43bd-9212-ea49ee745ef1"
      },
      "execution_count": 6,
      "outputs": [
        {
          "output_type": "execute_result",
          "data": {
            "text/plain": [
              "26"
            ]
          },
          "metadata": {},
          "execution_count": 6
        }
      ]
    },
    {
      "cell_type": "code",
      "source": [
        "#visualizando os tokens\n",
        "n_tokens"
      ],
      "metadata": {
        "colab": {
          "base_uri": "https://localhost:8080/"
        },
        "id": "WAeBIu6UD8Ys",
        "outputId": "723e5acd-ae58-4265-c19b-09f26652733c"
      },
      "execution_count": 7,
      "outputs": [
        {
          "output_type": "execute_result",
          "data": {
            "text/plain": [
              "['Embora',\n",
              " 'seja',\n",
              " 'mais',\n",
              " 'comum',\n",
              " 'no',\n",
              " 'público',\n",
              " 'da',\n",
              " 'terceira',\n",
              " 'idade,',\n",
              " 'a',\n",
              " 'artrose',\n",
              " 'atinge',\n",
              " 'também',\n",
              " 'atletas',\n",
              " 'de',\n",
              " 'alto',\n",
              " 'desempenho',\n",
              " 'e',\n",
              " 'esportistas,',\n",
              " 'devido',\n",
              " 'ao',\n",
              " 'forte',\n",
              " 'impacto',\n",
              " 'nas',\n",
              " 'principais',\n",
              " 'articulações']"
            ]
          },
          "metadata": {},
          "execution_count": 7
        }
      ]
    },
    {
      "cell_type": "markdown",
      "source": [
        "Existem muitas palavras conectores que por vezes não queremos ou não são necessarias para a analise então podem ser removidas com algumas tecnicas, uma forma simples é a usada abaixo"
      ],
      "metadata": {
        "id": "Z6CKnlURR3Be"
      }
    },
    {
      "cell_type": "code",
      "source": [
        "#fazendo uma lista utilizando a condição que a palavra precisa ter mais de 3 caracteries\n",
        "[t for t in n_tokens if len(t) >3]"
      ],
      "metadata": {
        "colab": {
          "base_uri": "https://localhost:8080/"
        },
        "id": "So4Rki8qEGYX",
        "outputId": "7e57b97c-8421-4321-dd3d-959f757adca5"
      },
      "execution_count": 8,
      "outputs": [
        {
          "output_type": "execute_result",
          "data": {
            "text/plain": [
              "['Embora',\n",
              " 'seja',\n",
              " 'mais',\n",
              " 'comum',\n",
              " 'público',\n",
              " 'terceira',\n",
              " 'idade,',\n",
              " 'artrose',\n",
              " 'atinge',\n",
              " 'também',\n",
              " 'atletas',\n",
              " 'alto',\n",
              " 'desempenho',\n",
              " 'esportistas,',\n",
              " 'devido',\n",
              " 'forte',\n",
              " 'impacto',\n",
              " 'principais',\n",
              " 'articulações']"
            ]
          },
          "metadata": {},
          "execution_count": 8
        }
      ]
    },
    {
      "cell_type": "code",
      "source": [
        "#pegando as palavras que começam com letra maiuscula\n",
        "[t for t in n_tokens if t.istitle()]"
      ],
      "metadata": {
        "colab": {
          "base_uri": "https://localhost:8080/"
        },
        "id": "TxG-zQazH_aF",
        "outputId": "2c6785d3-eb9e-4a96-ce34-190534b7a9f7"
      },
      "execution_count": 9,
      "outputs": [
        {
          "output_type": "execute_result",
          "data": {
            "text/plain": [
              "['Embora']"
            ]
          },
          "metadata": {},
          "execution_count": 9
        }
      ]
    },
    {
      "cell_type": "code",
      "source": [
        "#criando uma lista com as palavras que terminam com S\n",
        "[t for t in n_tokens if t.endswith('s')]"
      ],
      "metadata": {
        "colab": {
          "base_uri": "https://localhost:8080/"
        },
        "id": "OJF8Cv6_MNJZ",
        "outputId": "4fb91998-a9e7-418d-ee0b-15f1fe99882b"
      },
      "execution_count": 11,
      "outputs": [
        {
          "output_type": "execute_result",
          "data": {
            "text/plain": [
              "['mais', 'atletas', 'nas', 'principais', 'articulações']"
            ]
          },
          "metadata": {},
          "execution_count": 11
        }
      ]
    },
    {
      "cell_type": "code",
      "source": [
        "#criando um novo texto para exemplo\n",
        "texto2 = \"Ser ou nao ser ou seriamos\""
      ],
      "metadata": {
        "id": "tu9_bdvtMm7a"
      },
      "execution_count": 19,
      "outputs": []
    },
    {
      "cell_type": "code",
      "source": [
        "#visualizando o numero de tokens\n",
        "n_tokens2 = texto2.split(\" \")\n",
        "len(n_tokens2)"
      ],
      "metadata": {
        "colab": {
          "base_uri": "https://localhost:8080/"
        },
        "id": "bTkVMdnTNFfE",
        "outputId": "95483d4e-c7bd-475e-b28c-fbdec9b5f802"
      },
      "execution_count": 20,
      "outputs": [
        {
          "output_type": "execute_result",
          "data": {
            "text/plain": [
              "6"
            ]
          },
          "metadata": {},
          "execution_count": 20
        }
      ]
    },
    {
      "cell_type": "code",
      "source": [
        "#udando set para pegar os tokens unicos ou seja sem repetir palavras\n",
        "len(set(n_tokens2))"
      ],
      "metadata": {
        "colab": {
          "base_uri": "https://localhost:8080/"
        },
        "id": "j3qrFSerEwNS",
        "outputId": "68bcc901-f692-4e3d-b9e2-6b21458a75bd"
      },
      "execution_count": 21,
      "outputs": [
        {
          "output_type": "execute_result",
          "data": {
            "text/plain": [
              "5"
            ]
          },
          "metadata": {},
          "execution_count": 21
        }
      ]
    },
    {
      "cell_type": "code",
      "source": [
        "#visualizando os tokens unicos\n",
        "set(n_tokens2)"
      ],
      "metadata": {
        "colab": {
          "base_uri": "https://localhost:8080/"
        },
        "id": "N6dnfx1AN0F6",
        "outputId": "695d4c06-6ca1-402c-ec78-4c231fcd90e8"
      },
      "execution_count": 23,
      "outputs": [
        {
          "output_type": "execute_result",
          "data": {
            "text/plain": [
              "{'Ser', 'nao', 'ou', 'ser', 'seriamos'}"
            ]
          },
          "metadata": {},
          "execution_count": 23
        }
      ]
    },
    {
      "cell_type": "markdown",
      "source": [
        "note que existem 2 palavras Ser, sendo uma com s minusculo e outra maiusculo, o python compreende que são palavras distintas, uma soluçao é fazer com que todas as palavras sejam minusculas"
      ],
      "metadata": {
        "id": "fswVcrsmTASO"
      }
    },
    {
      "cell_type": "code",
      "source": [
        "#exemplo de criação de lista onde todas as palavras ficam minusculas\n",
        "[t.lower() for t in n_tokens2]"
      ],
      "metadata": {
        "colab": {
          "base_uri": "https://localhost:8080/"
        },
        "id": "Ewo7xaAARM6p",
        "outputId": "ab8e202b-9cc8-4447-a853-6b6cc338c596"
      },
      "execution_count": 27,
      "outputs": [
        {
          "output_type": "execute_result",
          "data": {
            "text/plain": [
              "['ser', 'ou', 'nao', 'ser', 'ou', 'seriamos']"
            ]
          },
          "metadata": {},
          "execution_count": 27
        }
      ]
    },
    {
      "cell_type": "code",
      "source": [
        "#aplicando o set na lista com todas palavras minusculas\n",
        "set([t.lower() for t in n_tokens2])"
      ],
      "metadata": {
        "colab": {
          "base_uri": "https://localhost:8080/"
        },
        "id": "G_bh_Ql8OFLg",
        "outputId": "d5a3df93-5992-4b92-a2c9-c75a24886402"
      },
      "execution_count": 25,
      "outputs": [
        {
          "output_type": "execute_result",
          "data": {
            "text/plain": [
              "{'nao', 'ou', 'ser', 'seriamos'}"
            ]
          },
          "metadata": {},
          "execution_count": 25
        }
      ]
    },
    {
      "cell_type": "markdown",
      "source": [
        "Agora só foi retornado 4 palavras pois ambos os tokens 'ser' estao em minusculo."
      ],
      "metadata": {
        "id": "gd5T4kxBTkjl"
      }
    }
  ]
}